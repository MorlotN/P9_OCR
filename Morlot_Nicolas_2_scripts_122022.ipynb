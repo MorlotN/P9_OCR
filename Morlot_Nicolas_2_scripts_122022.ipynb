{
 "cells": [
  {
   "cell_type": "markdown",
   "metadata": {
    "papermill": {
     "duration": 0.014044,
     "end_time": "2022-11-12T01:29:27.424462",
     "exception": false,
     "start_time": "2022-11-12T01:29:27.410418",
     "status": "completed"
    },
    "tags": []
   },
   "source": [
    "# Analyse et mise en forme de notre jeu de donnée"
   ]
  },
  {
   "cell_type": "markdown",
   "metadata": {
    "papermill": {
     "duration": 0.012013,
     "end_time": "2022-11-12T01:29:27.475733",
     "exception": false,
     "start_time": "2022-11-12T01:29:27.46372",
     "status": "completed"
    },
    "tags": []
   },
   "source": [
    "# Libraries"
   ]
  },
  {
   "cell_type": "code",
   "execution_count": 1,
   "metadata": {
    "execution": {
     "iopub.execute_input": "2022-11-13T15:15:48.834892Z",
     "iopub.status.busy": "2022-11-13T15:15:48.8344Z",
     "iopub.status.idle": "2022-11-13T15:15:49.894233Z",
     "shell.execute_reply": "2022-11-13T15:15:49.89336Z",
     "shell.execute_reply.started": "2022-11-13T15:15:48.834792Z"
    },
    "papermill": {
     "duration": 1.056318,
     "end_time": "2022-11-12T01:29:28.544332",
     "exception": false,
     "start_time": "2022-11-12T01:29:27.488014",
     "status": "completed"
    },
    "tags": []
   },
   "outputs": [],
   "source": [
    "# Import libraries\n",
    "import pandas as pd\n",
    "import numpy as np\n",
    "from pathlib import Path\n",
    "from datetime import datetime\n",
    "import os\n",
    "import pickle\n",
    "from time import time\n",
    "from random import randint\n",
    "import matplotlib.pyplot as plt\n",
    "import seaborn as sns\n",
    "\n",
    "%matplotlib inline"
   ]
  },
  {
   "cell_type": "markdown",
   "metadata": {
    "papermill": {
     "duration": 0.012569,
     "end_time": "2022-11-12T01:29:28.569898",
     "exception": false,
     "start_time": "2022-11-12T01:29:28.557329",
     "status": "completed"
    },
    "tags": []
   },
   "source": [
    "# Analyse du Data_set"
   ]
  },
  {
   "cell_type": "markdown",
   "metadata": {
    "papermill": {
     "duration": 0.01219,
     "end_time": "2022-11-12T01:29:28.594657",
     "exception": false,
     "start_time": "2022-11-12T01:29:28.582467",
     "status": "completed"
    },
    "tags": []
   },
   "source": [
    "Chemin de données"
   ]
  },
  {
   "cell_type": "code",
   "execution_count": 2,
   "metadata": {
    "execution": {
     "iopub.execute_input": "2022-11-13T15:15:53.894013Z",
     "iopub.status.busy": "2022-11-13T15:15:53.893475Z",
     "iopub.status.idle": "2022-11-13T15:15:53.900724Z",
     "shell.execute_reply": "2022-11-13T15:15:53.899624Z",
     "shell.execute_reply.started": "2022-11-13T15:15:53.893963Z"
    },
    "papermill": {
     "duration": 0.021258,
     "end_time": "2022-11-12T01:29:28.628317",
     "exception": false,
     "start_time": "2022-11-12T01:29:28.607059",
     "status": "completed"
    },
    "tags": []
   },
   "outputs": [],
   "source": [
    "# Dossier principal du dataset\n",
    "path_datasrc = Path('/home/morlot/code/Anaconda/OpenClassroom/Projet 9 Réalisez une application de recommandation de contenu/news-portal-user-interactions-by-globocom')\n",
    "\n",
    "# Dossier clicks files\n",
    "click_path = Path('/home/morlot/code/Anaconda/OpenClassroom/Projet 9 Réalisez une application de recommandation de contenu/news-portal-user-interactions-by-globocom/clicks')"
   ]
  },
  {
   "cell_type": "markdown",
   "metadata": {
    "papermill": {
     "duration": 0.012128,
     "end_time": "2022-11-12T01:29:28.652904",
     "exception": false,
     "start_time": "2022-11-12T01:29:28.640776",
     "status": "completed"
    },
    "tags": []
   },
   "source": [
    "# Dossier clicks"
   ]
  },
  {
   "cell_type": "markdown",
   "metadata": {},
   "source": [
    "#### On liste tous les fichiers clicks et on extrait les données dans un dataframe"
   ]
  },
  {
   "cell_type": "code",
   "execution_count": 3,
   "metadata": {
    "execution": {
     "iopub.execute_input": "2022-11-13T15:15:57.155548Z",
     "iopub.status.busy": "2022-11-13T15:15:57.15444Z",
     "iopub.status.idle": "2022-11-13T15:16:13.124802Z",
     "shell.execute_reply": "2022-11-13T15:16:13.123849Z",
     "shell.execute_reply.started": "2022-11-13T15:15:57.155507Z"
    },
    "papermill": {
     "duration": 13.917744,
     "end_time": "2022-11-12T01:29:42.607515",
     "exception": false,
     "start_time": "2022-11-12T01:29:28.689771",
     "status": "completed"
    },
    "tags": []
   },
   "outputs": [
    {
     "name": "stdout",
     "output_type": "stream",
     "text": [
      "Données de clics:  (2988181, 13)\n"
     ]
    },
    {
     "data": {
      "text/html": [
       "<div>\n",
       "<style scoped>\n",
       "    .dataframe tbody tr th:only-of-type {\n",
       "        vertical-align: middle;\n",
       "    }\n",
       "\n",
       "    .dataframe tbody tr th {\n",
       "        vertical-align: top;\n",
       "    }\n",
       "\n",
       "    .dataframe thead th {\n",
       "        text-align: right;\n",
       "    }\n",
       "</style>\n",
       "<table border=\"1\" class=\"dataframe\">\n",
       "  <thead>\n",
       "    <tr style=\"text-align: right;\">\n",
       "      <th></th>\n",
       "      <th>user_id</th>\n",
       "      <th>session_id</th>\n",
       "      <th>session_start</th>\n",
       "      <th>session_size</th>\n",
       "      <th>article_id</th>\n",
       "      <th>click_timestamp</th>\n",
       "      <th>click_environment</th>\n",
       "      <th>click_deviceGroup</th>\n",
       "      <th>click_os</th>\n",
       "      <th>click_country</th>\n",
       "      <th>click_region</th>\n",
       "      <th>click_referrer_type</th>\n",
       "      <th>filename</th>\n",
       "    </tr>\n",
       "  </thead>\n",
       "  <tbody>\n",
       "    <tr>\n",
       "      <th>0</th>\n",
       "      <td>0</td>\n",
       "      <td>1506825423271737</td>\n",
       "      <td>2017-10-01 02:37:03</td>\n",
       "      <td>2</td>\n",
       "      <td>157541</td>\n",
       "      <td>2017-10-01 03:00:28.020</td>\n",
       "      <td>4</td>\n",
       "      <td>3</td>\n",
       "      <td>20</td>\n",
       "      <td>1</td>\n",
       "      <td>20</td>\n",
       "      <td>2</td>\n",
       "      <td>0</td>\n",
       "    </tr>\n",
       "    <tr>\n",
       "      <th>1</th>\n",
       "      <td>0</td>\n",
       "      <td>1506825423271737</td>\n",
       "      <td>2017-10-01 02:37:03</td>\n",
       "      <td>2</td>\n",
       "      <td>68866</td>\n",
       "      <td>2017-10-01 03:00:58.020</td>\n",
       "      <td>4</td>\n",
       "      <td>3</td>\n",
       "      <td>20</td>\n",
       "      <td>1</td>\n",
       "      <td>20</td>\n",
       "      <td>2</td>\n",
       "      <td>0</td>\n",
       "    </tr>\n",
       "    <tr>\n",
       "      <th>2</th>\n",
       "      <td>1</td>\n",
       "      <td>1506825426267738</td>\n",
       "      <td>2017-10-01 02:37:06</td>\n",
       "      <td>2</td>\n",
       "      <td>235840</td>\n",
       "      <td>2017-10-01 03:03:37.951</td>\n",
       "      <td>4</td>\n",
       "      <td>1</td>\n",
       "      <td>17</td>\n",
       "      <td>1</td>\n",
       "      <td>16</td>\n",
       "      <td>2</td>\n",
       "      <td>0</td>\n",
       "    </tr>\n",
       "    <tr>\n",
       "      <th>3</th>\n",
       "      <td>1</td>\n",
       "      <td>1506825426267738</td>\n",
       "      <td>2017-10-01 02:37:06</td>\n",
       "      <td>2</td>\n",
       "      <td>96663</td>\n",
       "      <td>2017-10-01 03:04:07.951</td>\n",
       "      <td>4</td>\n",
       "      <td>1</td>\n",
       "      <td>17</td>\n",
       "      <td>1</td>\n",
       "      <td>16</td>\n",
       "      <td>2</td>\n",
       "      <td>0</td>\n",
       "    </tr>\n",
       "    <tr>\n",
       "      <th>4</th>\n",
       "      <td>2</td>\n",
       "      <td>1506825435299739</td>\n",
       "      <td>2017-10-01 02:37:15</td>\n",
       "      <td>2</td>\n",
       "      <td>119592</td>\n",
       "      <td>2017-10-01 03:04:50.575</td>\n",
       "      <td>4</td>\n",
       "      <td>1</td>\n",
       "      <td>17</td>\n",
       "      <td>1</td>\n",
       "      <td>24</td>\n",
       "      <td>2</td>\n",
       "      <td>0</td>\n",
       "    </tr>\n",
       "  </tbody>\n",
       "</table>\n",
       "</div>"
      ],
      "text/plain": [
       "  user_id        session_id       session_start session_size article_id  \\\n",
       "0       0  1506825423271737 2017-10-01 02:37:03            2     157541   \n",
       "1       0  1506825423271737 2017-10-01 02:37:03            2      68866   \n",
       "2       1  1506825426267738 2017-10-01 02:37:06            2     235840   \n",
       "3       1  1506825426267738 2017-10-01 02:37:06            2      96663   \n",
       "4       2  1506825435299739 2017-10-01 02:37:15            2     119592   \n",
       "\n",
       "          click_timestamp click_environment click_deviceGroup click_os  \\\n",
       "0 2017-10-01 03:00:28.020                 4                 3       20   \n",
       "1 2017-10-01 03:00:58.020                 4                 3       20   \n",
       "2 2017-10-01 03:03:37.951                 4                 1       17   \n",
       "3 2017-10-01 03:04:07.951                 4                 1       17   \n",
       "4 2017-10-01 03:04:50.575                 4                 1       17   \n",
       "\n",
       "  click_country click_region click_referrer_type  filename  \n",
       "0             1           20                   2         0  \n",
       "1             1           20                   2         0  \n",
       "2             1           16                   2         0  \n",
       "3             1           16                   2         0  \n",
       "4             1           24                   2         0  "
      ]
     },
     "execution_count": 3,
     "metadata": {},
     "output_type": "execute_result"
    }
   ],
   "source": [
    "file_click = sorted(os.listdir(click_path))\n",
    "click_list = []\n",
    "\n",
    "# On va chercher tout les fichiers dans le dossier click\n",
    "for i in range(0, len(file_click)):\n",
    "    temp = pd.read_csv(click_path / file_click[i])\n",
    "    temp['filename'] = i\n",
    "    click_list.append(temp)\n",
    "\n",
    "clicks = pd.concat(click_list, axis=0, ignore_index=True)\n",
    "\n",
    "clicks.rename(columns={'click_article_id':'article_id'}, inplace=True)\n",
    "\n",
    "# Convertion en datetime\n",
    "date2convert = ['session_start', 'click_timestamp']\n",
    "for col in date2convert:\n",
    "    clicks[col] = pd.to_datetime(clicks[col], unit='ms')\n",
    "\n",
    "print('Données de clics: ', clicks.shape)\n",
    "clicks.head()"
   ]
  },
  {
   "cell_type": "code",
   "execution_count": 4,
   "metadata": {},
   "outputs": [
    {
     "data": {
      "text/plain": [
       "user_id                0\n",
       "session_id             0\n",
       "session_start          0\n",
       "session_size           0\n",
       "article_id             0\n",
       "click_timestamp        0\n",
       "click_environment      0\n",
       "click_deviceGroup      0\n",
       "click_os               0\n",
       "click_country          0\n",
       "click_region           0\n",
       "click_referrer_type    0\n",
       "filename               0\n",
       "dtype: int64"
      ]
     },
     "execution_count": 4,
     "metadata": {},
     "output_type": "execute_result"
    }
   ],
   "source": [
    "clicks.isna().sum()"
   ]
  },
  {
   "cell_type": "markdown",
   "metadata": {},
   "source": [
    "Il n'y a pas de donnée manquante"
   ]
  },
  {
   "cell_type": "markdown",
   "metadata": {
    "papermill": {
     "duration": 0.012264,
     "end_time": "2022-11-12T01:29:42.657914",
     "exception": false,
     "start_time": "2022-11-12T01:29:42.64565",
     "status": "completed"
    },
    "tags": []
   },
   "source": [
    "## valeur unique"
   ]
  },
  {
   "cell_type": "code",
   "execution_count": 5,
   "metadata": {
    "execution": {
     "iopub.execute_input": "2022-11-13T15:16:28.31818Z",
     "iopub.status.busy": "2022-11-13T15:16:28.317755Z",
     "iopub.status.idle": "2022-11-13T15:16:30.5136Z",
     "shell.execute_reply": "2022-11-13T15:16:30.512353Z",
     "shell.execute_reply.started": "2022-11-13T15:16:28.318142Z"
    },
    "papermill": {
     "duration": 2.293379,
     "end_time": "2022-11-12T01:29:44.963786",
     "exception": false,
     "start_time": "2022-11-12T01:29:42.670407",
     "status": "completed"
    },
    "tags": []
   },
   "outputs": [
    {
     "name": "stdout",
     "output_type": "stream",
     "text": [
      "=== Valeur unique ===\n",
      "=================================================================\n",
      "user_id  : 322897\n",
      "session_id  : 1048594\n",
      "session_start  : 646874\n",
      "session_size  : 72\n",
      "article_id  : 46033\n",
      "click_timestamp  : 2983198\n",
      "click_environment  : 3\n",
      "click_deviceGroup  : 5\n",
      "click_os  : 8\n",
      "click_country  : 11\n",
      "click_region  : 28\n",
      "click_referrer_type  : 7\n",
      "filename  : 384\n"
     ]
    }
   ],
   "source": [
    "print('=== Valeur unique ===')\n",
    "print('=================================================================')\n",
    "for col in clicks.columns:\n",
    "    print(col, ' :', clicks[col].nunique())"
   ]
  },
  {
   "cell_type": "markdown",
   "metadata": {
    "papermill": {
     "duration": 0.013414,
     "end_time": "2022-11-12T01:29:44.991034",
     "exception": false,
     "start_time": "2022-11-12T01:29:44.97762",
     "status": "completed"
    },
    "tags": []
   },
   "source": [
    "# Dataset articles_metadata.csv"
   ]
  },
  {
   "cell_type": "code",
   "execution_count": 6,
   "metadata": {
    "execution": {
     "iopub.execute_input": "2022-11-13T15:16:34.696242Z",
     "iopub.status.busy": "2022-11-13T15:16:34.695871Z",
     "iopub.status.idle": "2022-11-13T15:16:36.975516Z",
     "shell.execute_reply": "2022-11-13T15:16:36.974285Z",
     "shell.execute_reply.started": "2022-11-13T15:16:34.696213Z"
    },
    "papermill": {
     "duration": 2.281902,
     "end_time": "2022-11-12T01:29:47.314197",
     "exception": false,
     "start_time": "2022-11-12T01:29:45.032295",
     "status": "completed"
    },
    "tags": []
   },
   "outputs": [
    {
     "name": "stdout",
     "output_type": "stream",
     "text": [
      "Min/Max creation date: 2006-09-27 00:00:00 /  2018-03-13 00:00:00\n",
      "Métadonnées des articles:  (364047, 5)\n"
     ]
    },
    {
     "data": {
      "text/html": [
       "<div>\n",
       "<style scoped>\n",
       "    .dataframe tbody tr th:only-of-type {\n",
       "        vertical-align: middle;\n",
       "    }\n",
       "\n",
       "    .dataframe tbody tr th {\n",
       "        vertical-align: top;\n",
       "    }\n",
       "\n",
       "    .dataframe thead th {\n",
       "        text-align: right;\n",
       "    }\n",
       "</style>\n",
       "<table border=\"1\" class=\"dataframe\">\n",
       "  <thead>\n",
       "    <tr style=\"text-align: right;\">\n",
       "      <th></th>\n",
       "      <th>article_id</th>\n",
       "      <th>category_id</th>\n",
       "      <th>created_at_ts</th>\n",
       "      <th>publisher_id</th>\n",
       "      <th>words_count</th>\n",
       "    </tr>\n",
       "  </thead>\n",
       "  <tbody>\n",
       "    <tr>\n",
       "      <th>0</th>\n",
       "      <td>0</td>\n",
       "      <td>0</td>\n",
       "      <td>2017-12-13</td>\n",
       "      <td>0</td>\n",
       "      <td>168</td>\n",
       "    </tr>\n",
       "    <tr>\n",
       "      <th>1</th>\n",
       "      <td>1</td>\n",
       "      <td>1</td>\n",
       "      <td>2014-07-14</td>\n",
       "      <td>0</td>\n",
       "      <td>189</td>\n",
       "    </tr>\n",
       "    <tr>\n",
       "      <th>2</th>\n",
       "      <td>2</td>\n",
       "      <td>1</td>\n",
       "      <td>2014-08-22</td>\n",
       "      <td>0</td>\n",
       "      <td>250</td>\n",
       "    </tr>\n",
       "    <tr>\n",
       "      <th>3</th>\n",
       "      <td>3</td>\n",
       "      <td>1</td>\n",
       "      <td>2014-08-19</td>\n",
       "      <td>0</td>\n",
       "      <td>230</td>\n",
       "    </tr>\n",
       "    <tr>\n",
       "      <th>4</th>\n",
       "      <td>4</td>\n",
       "      <td>1</td>\n",
       "      <td>2014-08-03</td>\n",
       "      <td>0</td>\n",
       "      <td>162</td>\n",
       "    </tr>\n",
       "  </tbody>\n",
       "</table>\n",
       "</div>"
      ],
      "text/plain": [
       "   article_id  category_id created_at_ts  publisher_id  words_count\n",
       "0           0            0    2017-12-13             0          168\n",
       "1           1            1    2014-07-14             0          189\n",
       "2           2            1    2014-08-22             0          250\n",
       "3           3            1    2014-08-19             0          230\n",
       "4           4            1    2014-08-03             0          162"
      ]
     },
     "execution_count": 6,
     "metadata": {},
     "output_type": "execute_result"
    }
   ],
   "source": [
    "articles = pd.read_csv(path_datasrc / 'articles_metadata.csv')\n",
    "\n",
    "# Convert date string to datetime type\n",
    "articles['created_at_ts'] = pd.to_datetime(\n",
    "    (pd.to_datetime(\n",
    "        articles['created_at_ts'],\n",
    "        unit='ms')).dt.strftime('%Y/%m/%d'))\n",
    "print('Min/Max creation date:', articles['created_at_ts'].min(),\n",
    "      '/ ', articles['created_at_ts'].max())\n",
    "\n",
    "# Display shape and 5 first rows\n",
    "print('Métadonnées des articles: ', articles.shape)\n",
    "articles.head()"
   ]
  },
  {
   "cell_type": "markdown",
   "metadata": {
    "papermill": {
     "duration": 0.013502,
     "end_time": "2022-11-12T01:29:47.368247",
     "exception": false,
     "start_time": "2022-11-12T01:29:47.354745",
     "status": "completed"
    },
    "tags": []
   },
   "source": [
    "* **article_id**: article id;\n",
    "* **category_id**: id de la category de l'article;\n",
    "* **created_at_ts**: date de publication;\n",
    "* **publisher_id**: id de publication;\n",
    "* **word_count**: nombre de mot par article."
   ]
  },
  {
   "cell_type": "markdown",
   "metadata": {
    "papermill": {
     "duration": 0.012909,
     "end_time": "2022-11-12T01:29:47.394468",
     "exception": false,
     "start_time": "2022-11-12T01:29:47.381559",
     "status": "completed"
    },
    "tags": []
   },
   "source": [
    "## Valeur unique"
   ]
  },
  {
   "cell_type": "code",
   "execution_count": 7,
   "metadata": {
    "execution": {
     "iopub.execute_input": "2022-11-13T15:16:40.25708Z",
     "iopub.status.busy": "2022-11-13T15:16:40.256691Z",
     "iopub.status.idle": "2022-11-13T15:16:40.284406Z",
     "shell.execute_reply": "2022-11-13T15:16:40.283109Z",
     "shell.execute_reply.started": "2022-11-13T15:16:40.257046Z"
    },
    "papermill": {
     "duration": 0.047725,
     "end_time": "2022-11-12T01:29:47.455727",
     "exception": false,
     "start_time": "2022-11-12T01:29:47.408002",
     "status": "completed"
    },
    "tags": []
   },
   "outputs": [
    {
     "name": "stdout",
     "output_type": "stream",
     "text": [
      "=== Valeur unique ===\n",
      "=============================================================\n",
      "article_id  : 364047\n",
      "category_id  : 461\n",
      "created_at_ts  : 2302\n",
      "publisher_id  : 1\n",
      "words_count  : 866\n"
     ]
    }
   ],
   "source": [
    "print('=== Valeur unique ===')\n",
    "print('=============================================================')\n",
    "for col in articles.columns:\n",
    "    print(col, ' :', articles[col].nunique())"
   ]
  },
  {
   "cell_type": "markdown",
   "metadata": {
    "papermill": {
     "duration": 0.01297,
     "end_time": "2022-11-12T01:29:47.483225",
     "exception": false,
     "start_time": "2022-11-12T01:29:47.470255",
     "status": "completed"
    },
    "tags": []
   },
   "source": [
    "# Dossier embeddings pickle"
   ]
  },
  {
   "cell_type": "code",
   "execution_count": 8,
   "metadata": {
    "execution": {
     "iopub.execute_input": "2022-11-13T15:16:42.940484Z",
     "iopub.status.busy": "2022-11-13T15:16:42.939616Z",
     "iopub.status.idle": "2022-11-13T15:16:49.473674Z",
     "shell.execute_reply": "2022-11-13T15:16:49.472497Z",
     "shell.execute_reply.started": "2022-11-13T15:16:42.940425Z"
    },
    "papermill": {
     "duration": 5.115916,
     "end_time": "2022-11-12T01:29:52.638906",
     "exception": false,
     "start_time": "2022-11-12T01:29:47.52299",
     "status": "completed"
    },
    "tags": []
   },
   "outputs": [
    {
     "name": "stdout",
     "output_type": "stream",
     "text": [
      "Articles embeddings shape:  (364047, 250)\n"
     ]
    },
    {
     "data": {
      "text/html": [
       "<div>\n",
       "<style scoped>\n",
       "    .dataframe tbody tr th:only-of-type {\n",
       "        vertical-align: middle;\n",
       "    }\n",
       "\n",
       "    .dataframe tbody tr th {\n",
       "        vertical-align: top;\n",
       "    }\n",
       "\n",
       "    .dataframe thead th {\n",
       "        text-align: right;\n",
       "    }\n",
       "</style>\n",
       "<table border=\"1\" class=\"dataframe\">\n",
       "  <thead>\n",
       "    <tr style=\"text-align: right;\">\n",
       "      <th></th>\n",
       "      <th>dim_0</th>\n",
       "      <th>dim_1</th>\n",
       "      <th>dim_2</th>\n",
       "      <th>dim_3</th>\n",
       "      <th>dim_4</th>\n",
       "      <th>dim_5</th>\n",
       "      <th>dim_6</th>\n",
       "      <th>dim_7</th>\n",
       "      <th>dim_8</th>\n",
       "      <th>dim_9</th>\n",
       "      <th>...</th>\n",
       "      <th>dim_240</th>\n",
       "      <th>dim_241</th>\n",
       "      <th>dim_242</th>\n",
       "      <th>dim_243</th>\n",
       "      <th>dim_244</th>\n",
       "      <th>dim_245</th>\n",
       "      <th>dim_246</th>\n",
       "      <th>dim_247</th>\n",
       "      <th>dim_248</th>\n",
       "      <th>dim_249</th>\n",
       "    </tr>\n",
       "  </thead>\n",
       "  <tbody>\n",
       "    <tr>\n",
       "      <th>0</th>\n",
       "      <td>-0.161183</td>\n",
       "      <td>-0.957233</td>\n",
       "      <td>-0.137944</td>\n",
       "      <td>0.050855</td>\n",
       "      <td>0.830055</td>\n",
       "      <td>0.901365</td>\n",
       "      <td>-0.335148</td>\n",
       "      <td>-0.559561</td>\n",
       "      <td>-0.500603</td>\n",
       "      <td>0.165183</td>\n",
       "      <td>...</td>\n",
       "      <td>0.321248</td>\n",
       "      <td>0.313999</td>\n",
       "      <td>0.636412</td>\n",
       "      <td>0.169179</td>\n",
       "      <td>0.540524</td>\n",
       "      <td>-0.813182</td>\n",
       "      <td>0.286870</td>\n",
       "      <td>-0.231686</td>\n",
       "      <td>0.597416</td>\n",
       "      <td>0.409623</td>\n",
       "    </tr>\n",
       "    <tr>\n",
       "      <th>1</th>\n",
       "      <td>-0.523216</td>\n",
       "      <td>-0.974058</td>\n",
       "      <td>0.738608</td>\n",
       "      <td>0.155234</td>\n",
       "      <td>0.626294</td>\n",
       "      <td>0.485297</td>\n",
       "      <td>-0.715657</td>\n",
       "      <td>-0.897996</td>\n",
       "      <td>-0.359747</td>\n",
       "      <td>0.398246</td>\n",
       "      <td>...</td>\n",
       "      <td>-0.487843</td>\n",
       "      <td>0.823124</td>\n",
       "      <td>0.412688</td>\n",
       "      <td>-0.338654</td>\n",
       "      <td>0.320787</td>\n",
       "      <td>0.588643</td>\n",
       "      <td>-0.594137</td>\n",
       "      <td>0.182828</td>\n",
       "      <td>0.397090</td>\n",
       "      <td>-0.834364</td>\n",
       "    </tr>\n",
       "    <tr>\n",
       "      <th>2</th>\n",
       "      <td>-0.619619</td>\n",
       "      <td>-0.972960</td>\n",
       "      <td>-0.207360</td>\n",
       "      <td>-0.128861</td>\n",
       "      <td>0.044748</td>\n",
       "      <td>-0.387535</td>\n",
       "      <td>-0.730477</td>\n",
       "      <td>-0.066126</td>\n",
       "      <td>-0.754899</td>\n",
       "      <td>-0.242004</td>\n",
       "      <td>...</td>\n",
       "      <td>0.454756</td>\n",
       "      <td>0.473184</td>\n",
       "      <td>0.377866</td>\n",
       "      <td>-0.863887</td>\n",
       "      <td>-0.383365</td>\n",
       "      <td>0.137721</td>\n",
       "      <td>-0.810877</td>\n",
       "      <td>-0.447580</td>\n",
       "      <td>0.805932</td>\n",
       "      <td>-0.285284</td>\n",
       "    </tr>\n",
       "    <tr>\n",
       "      <th>3</th>\n",
       "      <td>-0.740843</td>\n",
       "      <td>-0.975749</td>\n",
       "      <td>0.391698</td>\n",
       "      <td>0.641738</td>\n",
       "      <td>-0.268645</td>\n",
       "      <td>0.191745</td>\n",
       "      <td>-0.825593</td>\n",
       "      <td>-0.710591</td>\n",
       "      <td>-0.040099</td>\n",
       "      <td>-0.110514</td>\n",
       "      <td>...</td>\n",
       "      <td>0.271535</td>\n",
       "      <td>0.036040</td>\n",
       "      <td>0.480029</td>\n",
       "      <td>-0.763173</td>\n",
       "      <td>0.022627</td>\n",
       "      <td>0.565165</td>\n",
       "      <td>-0.910286</td>\n",
       "      <td>-0.537838</td>\n",
       "      <td>0.243541</td>\n",
       "      <td>-0.885329</td>\n",
       "    </tr>\n",
       "    <tr>\n",
       "      <th>4</th>\n",
       "      <td>-0.279052</td>\n",
       "      <td>-0.972315</td>\n",
       "      <td>0.685374</td>\n",
       "      <td>0.113056</td>\n",
       "      <td>0.238315</td>\n",
       "      <td>0.271913</td>\n",
       "      <td>-0.568816</td>\n",
       "      <td>0.341194</td>\n",
       "      <td>-0.600554</td>\n",
       "      <td>-0.125644</td>\n",
       "      <td>...</td>\n",
       "      <td>0.238286</td>\n",
       "      <td>0.809268</td>\n",
       "      <td>0.427521</td>\n",
       "      <td>-0.615932</td>\n",
       "      <td>-0.503697</td>\n",
       "      <td>0.614450</td>\n",
       "      <td>-0.917760</td>\n",
       "      <td>-0.424061</td>\n",
       "      <td>0.185484</td>\n",
       "      <td>-0.580292</td>\n",
       "    </tr>\n",
       "  </tbody>\n",
       "</table>\n",
       "<p>5 rows × 250 columns</p>\n",
       "</div>"
      ],
      "text/plain": [
       "      dim_0     dim_1     dim_2     dim_3     dim_4     dim_5     dim_6  \\\n",
       "0 -0.161183 -0.957233 -0.137944  0.050855  0.830055  0.901365 -0.335148   \n",
       "1 -0.523216 -0.974058  0.738608  0.155234  0.626294  0.485297 -0.715657   \n",
       "2 -0.619619 -0.972960 -0.207360 -0.128861  0.044748 -0.387535 -0.730477   \n",
       "3 -0.740843 -0.975749  0.391698  0.641738 -0.268645  0.191745 -0.825593   \n",
       "4 -0.279052 -0.972315  0.685374  0.113056  0.238315  0.271913 -0.568816   \n",
       "\n",
       "      dim_7     dim_8     dim_9  ...   dim_240   dim_241   dim_242   dim_243  \\\n",
       "0 -0.559561 -0.500603  0.165183  ...  0.321248  0.313999  0.636412  0.169179   \n",
       "1 -0.897996 -0.359747  0.398246  ... -0.487843  0.823124  0.412688 -0.338654   \n",
       "2 -0.066126 -0.754899 -0.242004  ...  0.454756  0.473184  0.377866 -0.863887   \n",
       "3 -0.710591 -0.040099 -0.110514  ...  0.271535  0.036040  0.480029 -0.763173   \n",
       "4  0.341194 -0.600554 -0.125644  ...  0.238286  0.809268  0.427521 -0.615932   \n",
       "\n",
       "    dim_244   dim_245   dim_246   dim_247   dim_248   dim_249  \n",
       "0  0.540524 -0.813182  0.286870 -0.231686  0.597416  0.409623  \n",
       "1  0.320787  0.588643 -0.594137  0.182828  0.397090 -0.834364  \n",
       "2 -0.383365  0.137721 -0.810877 -0.447580  0.805932 -0.285284  \n",
       "3  0.022627  0.565165 -0.910286 -0.537838  0.243541 -0.885329  \n",
       "4 -0.503697  0.614450 -0.917760 -0.424061  0.185484 -0.580292  \n",
       "\n",
       "[5 rows x 250 columns]"
      ]
     },
     "execution_count": 8,
     "metadata": {},
     "output_type": "execute_result"
    }
   ],
   "source": [
    "with open(os.path.join(path_datasrc,'articles_embeddings.pickle'), 'rb') as file:\n",
    "    embeddings = pickle.load(file)\n",
    "\n",
    "# Save dataframe\n",
    "df_embeddings = pd.DataFrame(embeddings)\n",
    "df_embeddings = df_embeddings.add_prefix('dim_')\n",
    "\n",
    "print('Articles embeddings shape: ', df_embeddings.shape)\n",
    "df_embeddings.head()"
   ]
  },
  {
   "cell_type": "markdown",
   "metadata": {
    "papermill": {
     "duration": 0.013663,
     "end_time": "2022-11-12T01:29:52.666744",
     "exception": false,
     "start_time": "2022-11-12T01:29:52.653081",
     "status": "completed"
    },
    "tags": []
   },
   "source": [
    "**Key observations:**\n",
    "* 322,897 unique utilisateur;\n",
    "* 364,047 articles disponible dans la database;"
   ]
  },
  {
   "cell_type": "markdown",
   "metadata": {
    "papermill": {
     "duration": 0.013708,
     "end_time": "2022-11-12T01:29:52.694425",
     "exception": false,
     "start_time": "2022-11-12T01:29:52.680717",
     "status": "completed"
    },
    "tags": []
   },
   "source": [
    "# Information sur les datasets"
   ]
  },
  {
   "cell_type": "markdown",
   "metadata": {
    "papermill": {
     "duration": 0.013872,
     "end_time": "2022-11-12T01:29:52.750261",
     "exception": false,
     "start_time": "2022-11-12T01:29:52.736389",
     "status": "completed"
    },
    "tags": []
   },
   "source": [
    "## Analyse des periodes"
   ]
  },
  {
   "cell_type": "code",
   "execution_count": 9,
   "metadata": {
    "execution": {
     "iopub.execute_input": "2022-11-13T15:17:02.658059Z",
     "iopub.status.busy": "2022-11-13T15:17:02.657643Z",
     "iopub.status.idle": "2022-11-13T15:17:02.68349Z",
     "shell.execute_reply": "2022-11-13T15:17:02.682278Z",
     "shell.execute_reply.started": "2022-11-13T15:17:02.658022Z"
    },
    "papermill": {
     "duration": 0.043667,
     "end_time": "2022-11-12T01:29:52.807964",
     "exception": false,
     "start_time": "2022-11-12T01:29:52.764297",
     "status": "completed"
    },
    "tags": []
   },
   "outputs": [
    {
     "name": "stdout",
     "output_type": "stream",
     "text": [
      "Sessions start from 2017-10-01 02:37:03 to 2017-10-17 03:36:19\n"
     ]
    }
   ],
   "source": [
    "print('Sessions start from {} to {}'.format(clicks.session_start.min(), clicks.session_start.max()))"
   ]
  },
  {
   "cell_type": "code",
   "execution_count": 10,
   "metadata": {
    "execution": {
     "iopub.execute_input": "2022-11-13T15:17:05.346534Z",
     "iopub.status.busy": "2022-11-13T15:17:05.345568Z",
     "iopub.status.idle": "2022-11-13T15:17:05.37172Z",
     "shell.execute_reply": "2022-11-13T15:17:05.370426Z",
     "shell.execute_reply.started": "2022-11-13T15:17:05.346493Z"
    },
    "papermill": {
     "duration": 0.043344,
     "end_time": "2022-11-12T01:29:52.865561",
     "exception": false,
     "start_time": "2022-11-12T01:29:52.822217",
     "status": "completed"
    },
    "tags": []
   },
   "outputs": [
    {
     "name": "stdout",
     "output_type": "stream",
     "text": [
      "Clicks period starts from 2017-10-01 03:00:00.026000 to 2017-11-13 20:04:14.886000\n"
     ]
    }
   ],
   "source": [
    "print('Clicks period starts from {} to {}'.format(clicks.click_timestamp.min(), clicks.click_timestamp.max()))\n"
   ]
  },
  {
   "cell_type": "markdown",
   "metadata": {
    "papermill": {
     "duration": 0.014609,
     "end_time": "2022-11-12T01:37:12.770108",
     "exception": false,
     "start_time": "2022-11-12T01:37:12.755499",
     "status": "completed"
    },
    "tags": []
   },
   "source": [
    "## Profile utilisateur"
   ]
  },
  {
   "cell_type": "markdown",
   "metadata": {
    "papermill": {
     "duration": 0.014532,
     "end_time": "2022-11-12T01:37:12.799402",
     "exception": false,
     "start_time": "2022-11-12T01:37:12.78487",
     "status": "completed"
    },
    "tags": []
   },
   "source": [
    "Pour identifier les articles susceptibles d'intéresser l'utilisateur, il faut analyser les données le concernant pour construire explicitement ou implicitement des connaissances afin d'établir son profil - profil qui sera ensuite utilisé par le système de recommandation.\n",
    "\n",
    "Les données sont dites :\n",
    "\n",
    "* explicite, lorsque l'utilisateur participe à la construction des données, par exemple, lorsqu'il donne une note à un article, met un \"j'aime\" sur un article, etc. ;\n",
    "* implicite, lorsque les données capturées concernent les interactions de l'utilisateur avec le système, telles que l'historique de navigation ou de recherche, les clics sur les articles, les téléchargements, la durée de consultation, la plateforme utilisée, etc.\n",
    "\n",
    "Dans cette partie, nous allons essayer de trouver des données exploitables sur les utilisateurs."
   ]
  },
  {
   "cell_type": "markdown",
   "metadata": {
    "papermill": {
     "duration": 0.014498,
     "end_time": "2022-11-12T01:37:12.828737",
     "exception": false,
     "start_time": "2022-11-12T01:37:12.814239",
     "status": "completed"
    },
    "tags": []
   },
   "source": [
    "### 5.3.1 Sessions"
   ]
  },
  {
   "cell_type": "code",
   "execution_count": 11,
   "metadata": {
    "execution": {
     "iopub.execute_input": "2022-11-13T15:25:02.574997Z",
     "iopub.status.busy": "2022-11-13T15:25:02.574605Z",
     "iopub.status.idle": "2022-11-13T15:25:04.42363Z",
     "shell.execute_reply": "2022-11-13T15:25:04.422492Z",
     "shell.execute_reply.started": "2022-11-13T15:25:02.574967Z"
    },
    "papermill": {
     "duration": 1.824171,
     "end_time": "2022-11-12T01:37:14.667809",
     "exception": false,
     "start_time": "2022-11-12T01:37:12.843638",
     "status": "completed"
    },
    "tags": []
   },
   "outputs": [
    {
     "name": "stdout",
     "output_type": "stream",
     "text": [
      "# session per user, Mean: 3.2 - Min: 1, Max: 207.\n"
     ]
    },
    {
     "data": {
      "image/png": "[encoded data removed]",
      "text/plain": [
       "<Figure size 720x288 with 2 Axes>"
      ]
     },
     "metadata": {
      "needs_background": "light"
     },
     "output_type": "display_data"
    }
   ],
   "source": [
    "x = clicks.groupby(['user_id'])['session_id'].nunique()\n",
    "print(\n",
    "    '# session per user, Mean: {} - Min: {}, Max: {}.'.format(round(x.mean(), 1),\n",
    "                                                              x.min(),\n",
    "                                                              x.max()))\n",
    "\n",
    "fig, (ax1, ax2) = plt.subplots (1, 2, figsize=(10, 4))\n",
    "ax1.boxplot(x)\n",
    "ax1.set_xlabel('# session')\n",
    "ax1.set_title('# session / user (with outliers)')\n",
    "ax2.boxplot(x, showfliers=False)\n",
    "ax2.set_xlabel('# session')\n",
    "ax2.set_title('# session / user (without outliers)')\n",
    "plt.show()"
   ]
  },
  {
   "cell_type": "code",
   "execution_count": 12,
   "metadata": {
    "execution": {
     "iopub.execute_input": "2022-11-13T15:25:06.461588Z",
     "iopub.status.busy": "2022-11-13T15:25:06.46117Z",
     "iopub.status.idle": "2022-11-13T15:25:07.611117Z",
     "shell.execute_reply": "2022-11-13T15:25:07.609696Z",
     "shell.execute_reply.started": "2022-11-13T15:25:06.461552Z"
    },
    "papermill": {
     "duration": 1.136352,
     "end_time": "2022-11-12T01:37:15.819699",
     "exception": false,
     "start_time": "2022-11-12T01:37:14.683347",
     "status": "completed"
    },
    "tags": []
   },
   "outputs": [
    {
     "data": {
      "text/plain": [
       "<AxesSubplot:title={'center':'Sessions distribution'}, xlabel='session_size'>"
      ]
     },
     "execution_count": 12,
     "metadata": {},
     "output_type": "execute_result"
    },
    {
     "data": {
      "image/png": "[encoded data removed]",
      "text/plain": [
       "<Figure size 1080x288 with 1 Axes>"
      ]
     },
     "metadata": {
      "needs_background": "light"
     },
     "output_type": "display_data"
    }
   ],
   "source": [
    "clicks.groupby('session_size').size().plot(kind='bar', figsize=(15, 4),\n",
    "                                           title='Sessions distribution')"
   ]
  },
  {
   "cell_type": "markdown",
   "metadata": {
    "papermill": {
     "duration": 0.015561,
     "end_time": "2022-11-12T01:37:15.851437",
     "exception": false,
     "start_time": "2022-11-12T01:37:15.835876",
     "status": "completed"
    },
    "tags": []
   },
   "source": [
    "**Observations clés**\n",
    "* Les utilisateurs ont eu en moyenne 3 sessions sur la période d'analyse, avec un minimum de 1 et un maximum de 207.\n",
    "* Les utilisateurs consultent généralement 2 articles par session, avec un maximum de 124 ;"
   ]
  },
  {
   "cell_type": "markdown",
   "metadata": {
    "papermill": {
     "duration": 0.015859,
     "end_time": "2022-11-12T01:37:15.883205",
     "exception": false,
     "start_time": "2022-11-12T01:37:15.867346",
     "status": "completed"
    },
    "tags": []
   },
   "source": [
    "### Localisation"
   ]
  },
  {
   "cell_type": "code",
   "execution_count": 13,
   "metadata": {
    "execution": {
     "iopub.execute_input": "2022-11-13T15:25:10.222268Z",
     "iopub.status.busy": "2022-11-13T15:25:10.221585Z",
     "iopub.status.idle": "2022-11-13T15:25:11.431472Z",
     "shell.execute_reply": "2022-11-13T15:25:11.430543Z",
     "shell.execute_reply.started": "2022-11-13T15:25:10.222213Z"
    },
    "papermill": {
     "duration": 1.175982,
     "end_time": "2022-11-12T01:37:17.075452",
     "exception": false,
     "start_time": "2022-11-12T01:37:15.89947",
     "status": "completed"
    },
    "tags": []
   },
   "outputs": [
    {
     "data": {
      "text/plain": [
       "<AxesSubplot:title={'center':'# user per state'}, xlabel='click_country'>"
      ]
     },
     "execution_count": 13,
     "metadata": {},
     "output_type": "execute_result"
    },
    {
     "data": {
      "image/png": "[encoded data removed]",
      "text/plain": [
       "<Figure size 432x288 with 1 Axes>"
      ]
     },
     "metadata": {
      "needs_background": "light"
     },
     "output_type": "display_data"
    }
   ],
   "source": [
    "clicks.groupby('click_country')['user_id'].nunique().plot(kind='bar', title='# user per state')"
   ]
  },
  {
   "cell_type": "code",
   "execution_count": 14,
   "metadata": {
    "execution": {
     "iopub.execute_input": "2022-11-13T15:25:12.952558Z",
     "iopub.status.busy": "2022-11-13T15:25:12.952126Z",
     "iopub.status.idle": "2022-11-13T15:25:14.810171Z",
     "shell.execute_reply": "2022-11-13T15:25:14.808872Z",
     "shell.execute_reply.started": "2022-11-13T15:25:12.95252Z"
    },
    "papermill": {
     "duration": 1.792015,
     "end_time": "2022-11-12T01:37:18.883767",
     "exception": false,
     "start_time": "2022-11-12T01:37:17.091752",
     "status": "completed"
    },
    "tags": []
   },
   "outputs": [
    {
     "data": {
      "text/plain": [
       "<AxesSubplot:title={'center':'# user per state and region'}, xlabel='click_country,click_region'>"
      ]
     },
     "execution_count": 14,
     "metadata": {},
     "output_type": "execute_result"
    },
    {
     "data": {
      "image/png": "[encoded data removed]",
      "text/plain": [
       "<Figure size 1080x432 with 1 Axes>"
      ]
     },
     "metadata": {
      "needs_background": "light"
     },
     "output_type": "display_data"
    }
   ],
   "source": [
    "clicks.groupby(['click_country', 'click_region'])['user_id'].nunique().plot(kind='bar', figsize=(15, 6), title='# user per state and region')\n"
   ]
  },
  {
   "cell_type": "markdown",
   "metadata": {
    "papermill": {
     "duration": 0.016328,
     "end_time": "2022-11-12T01:37:18.916784",
     "exception": false,
     "start_time": "2022-11-12T01:37:18.900456",
     "status": "completed"
    },
    "tags": []
   },
   "source": [
    "**Key observations**\n",
    "La majorité des utilisateurs sont localisés dans l'état n°1 ;\n",
    "Dans l'état n°1, les 3 régions les plus actives par ordre d'importance sont 25, 21 et 13."
   ]
  },
  {
   "cell_type": "markdown",
   "metadata": {
    "papermill": {
     "duration": 0.016215,
     "end_time": "2022-11-12T01:37:18.949454",
     "exception": false,
     "start_time": "2022-11-12T01:37:18.933239",
     "status": "completed"
    },
    "tags": []
   },
   "source": [
    "### 5.3.3 Periode de lecture"
   ]
  },
  {
   "cell_type": "code",
   "execution_count": 15,
   "metadata": {
    "execution": {
     "iopub.execute_input": "2022-11-13T15:25:17.152483Z",
     "iopub.status.busy": "2022-11-13T15:25:17.152031Z",
     "iopub.status.idle": "2022-11-13T15:25:32.738225Z",
     "shell.execute_reply": "2022-11-13T15:25:32.737097Z",
     "shell.execute_reply.started": "2022-11-13T15:25:17.152445Z"
    },
    "papermill": {
     "duration": 15.27318,
     "end_time": "2022-11-12T01:37:34.239321",
     "exception": false,
     "start_time": "2022-11-12T01:37:18.966141",
     "status": "completed"
    },
    "tags": []
   },
   "outputs": [
    {
     "data": {
      "text/plain": [
       "<AxesSubplot:title={'center':'# articles par jour'}, xlabel='session_start'>"
      ]
     },
     "execution_count": 15,
     "metadata": {},
     "output_type": "execute_result"
    },
    {
     "data": {
      "image/png": "[encoded data removed]",
      "text/plain": [
       "<Figure size 432x288 with 1 Axes>"
      ]
     },
     "metadata": {
      "needs_background": "light"
     },
     "output_type": "display_data"
    }
   ],
   "source": [
    "clicks.groupby(clicks['session_start'].dt.strftime('%d/%m/ %a')).size().plot(kind='bar', title='# articles par jour')"
   ]
  },
  {
   "cell_type": "markdown",
   "metadata": {
    "papermill": {
     "duration": 0.016918,
     "end_time": "2022-11-12T01:37:34.273319",
     "exception": false,
     "start_time": "2022-11-12T01:37:34.256401",
     "status": "completed"
    },
    "tags": []
   },
   "source": [
    "**Observations clés**\n",
    "\n",
    "Les utilisateurs consultent davantage les articles en début de semaine que le week-end."
   ]
  },
  {
   "cell_type": "markdown",
   "metadata": {
    "papermill": {
     "duration": 0.017675,
     "end_time": "2022-11-12T01:37:34.308082",
     "exception": false,
     "start_time": "2022-11-12T01:37:34.290407",
     "status": "completed"
    },
    "tags": []
   },
   "source": [
    "### 5.3.4 Context of the articles readings"
   ]
  },
  {
   "cell_type": "markdown",
   "metadata": {
    "papermill": {
     "duration": 0.016828,
     "end_time": "2022-11-12T01:37:34.342622",
     "exception": false,
     "start_time": "2022-11-12T01:37:34.325794",
     "status": "completed"
    },
    "tags": []
   },
   "source": [
    "* **click_environment**:  (1-Facebook, 2-Mobile App 3-Mobile Pages 4-Web);\n",
    "* **click_deviceGroup**:  (1-tablet, 2-TV, 4-Mobile, 5-Computer, or 3-blank);\n",
    "* **click_os**:  (1-Other, 2-iOS, 3-Android, 4-Windows Phone, 5-Windows Mobile, 6-Windows, 7-Mac OS X, 8-Mac OS, 9- Samsung, 10-FireHbbTV, 11-ATV OS X, 12-tvOS, 13-Chrome OS, 14-Debian, 15-Symbian OS, 16-BlackBerry OS, 17-Firefox OS, 18-Android, 19-Brew MP, 20 -Chromecast, 21-webOS, 22-Gentoo, 23-Solaris);"
   ]
  },
  {
   "cell_type": "code",
   "execution_count": 16,
   "metadata": {
    "execution": {
     "iopub.execute_input": "2022-11-13T15:26:45.430294Z",
     "iopub.status.busy": "2022-11-13T15:26:45.429858Z",
     "iopub.status.idle": "2022-11-13T15:26:46.777445Z",
     "shell.execute_reply": "2022-11-13T15:26:46.776307Z",
     "shell.execute_reply.started": "2022-11-13T15:26:45.430258Z"
    },
    "papermill": {
     "duration": 1.38457,
     "end_time": "2022-11-12T01:37:35.744365",
     "exception": false,
     "start_time": "2022-11-12T01:37:34.359795",
     "status": "completed"
    },
    "tags": []
   },
   "outputs": [
    {
     "data": {
      "text/plain": [
       "<function matplotlib.pyplot.show(close=None, block=None)>"
      ]
     },
     "execution_count": 16,
     "metadata": {},
     "output_type": "execute_result"
    },
    {
     "data": {
      "image/png": "[encoded data removed]",
      "text/plain": [
       "<Figure size 1296x288 with 3 Axes>"
      ]
     },
     "metadata": {
      "needs_background": "light"
     },
     "output_type": "display_data"
    }
   ],
   "source": [
    "a = clicks.groupby('click_environment')['user_id'].count()\n",
    "b = clicks.groupby('click_deviceGroup')['user_id'].count()\n",
    "c = clicks.groupby('click_os')['user_id'].count()\n",
    "\n",
    "fig, (ax1, ax2, ax3) = plt.subplots(1, 3, figsize=(18, 4))\n",
    "a.plot(kind='bar', title='# user per connection platform', ax=ax1)\n",
    "b.plot(kind='bar', title='# user per terminal type', ax=ax2)\n",
    "c.plot(kind='bar', title='# user per operating system', ax=ax3)\n",
    "plt.show"
   ]
  },
  {
   "cell_type": "markdown",
   "metadata": {
    "papermill": {
     "duration": 0.017798,
     "end_time": "2022-11-12T01:37:35.779916",
     "exception": false,
     "start_time": "2022-11-12T01:37:35.762118",
     "status": "completed"
    },
    "tags": []
   },
   "source": [
    "**Observations clés**\n",
    "\n",
    "* La lecture des articles se fait sur la page web Globo.com (peu de consultation sur l'application mobile) ;\n",
    "* Les utilisateurs consultent principalement les articles sur tablettes ;\n",
    "* Le principal système d'exploitation est Firefox.\n",
    "\n",
    "NOTE : ces données apporteraient un biais à notre projet car notre MVP (minimum viable product) est une application mobile : elles ne seront donc pas prises en compte dans notre système de recommandation."
   ]
  },
  {
   "cell_type": "markdown",
   "metadata": {
    "papermill": {
     "duration": 0.017468,
     "end_time": "2022-11-12T01:37:35.815249",
     "exception": false,
     "start_time": "2022-11-12T01:37:35.797781",
     "status": "completed"
    },
    "tags": []
   },
   "source": [
    "### 5.3.5 Articles categories"
   ]
  },
  {
   "cell_type": "code",
   "execution_count": 17,
   "metadata": {
    "execution": {
     "iopub.execute_input": "2022-11-13T15:26:50.999628Z",
     "iopub.status.busy": "2022-11-13T15:26:50.999202Z",
     "iopub.status.idle": "2022-11-13T15:27:29.608509Z",
     "shell.execute_reply": "2022-11-13T15:27:29.607173Z",
     "shell.execute_reply.started": "2022-11-13T15:26:50.999594Z"
    },
    "papermill": {
     "duration": 38.531946,
     "end_time": "2022-11-12T01:38:14.364755",
     "exception": false,
     "start_time": "2022-11-12T01:37:35.832809",
     "status": "completed"
    },
    "tags": []
   },
   "outputs": [
    {
     "name": "stdout",
     "output_type": "stream",
     "text": [
      "(2988181, 17)\n"
     ]
    },
    {
     "data": {
      "text/html": [
       "<div>\n",
       "<style scoped>\n",
       "    .dataframe tbody tr th:only-of-type {\n",
       "        vertical-align: middle;\n",
       "    }\n",
       "\n",
       "    .dataframe tbody tr th {\n",
       "        vertical-align: top;\n",
       "    }\n",
       "\n",
       "    .dataframe thead th {\n",
       "        text-align: right;\n",
       "    }\n",
       "</style>\n",
       "<table border=\"1\" class=\"dataframe\">\n",
       "  <thead>\n",
       "    <tr style=\"text-align: right;\">\n",
       "      <th></th>\n",
       "      <th>user_id</th>\n",
       "      <th>session_id</th>\n",
       "      <th>session_start</th>\n",
       "      <th>session_size</th>\n",
       "      <th>article_id</th>\n",
       "      <th>click_timestamp</th>\n",
       "      <th>click_environment</th>\n",
       "      <th>click_deviceGroup</th>\n",
       "      <th>click_os</th>\n",
       "      <th>click_country</th>\n",
       "      <th>click_region</th>\n",
       "      <th>click_referrer_type</th>\n",
       "      <th>filename</th>\n",
       "      <th>category_id</th>\n",
       "      <th>created_at_ts</th>\n",
       "      <th>publisher_id</th>\n",
       "      <th>words_count</th>\n",
       "    </tr>\n",
       "  </thead>\n",
       "  <tbody>\n",
       "    <tr>\n",
       "      <th>0</th>\n",
       "      <td>0</td>\n",
       "      <td>1506825423271737</td>\n",
       "      <td>2017-10-01</td>\n",
       "      <td>2</td>\n",
       "      <td>157541</td>\n",
       "      <td>2017-10-01</td>\n",
       "      <td>4</td>\n",
       "      <td>3</td>\n",
       "      <td>20</td>\n",
       "      <td>1</td>\n",
       "      <td>20</td>\n",
       "      <td>2</td>\n",
       "      <td>0</td>\n",
       "      <td>281</td>\n",
       "      <td>2017-09-30</td>\n",
       "      <td>0</td>\n",
       "      <td>280</td>\n",
       "    </tr>\n",
       "    <tr>\n",
       "      <th>1</th>\n",
       "      <td>20</td>\n",
       "      <td>1506825727279757</td>\n",
       "      <td>2017-10-01</td>\n",
       "      <td>2</td>\n",
       "      <td>157541</td>\n",
       "      <td>2017-10-01</td>\n",
       "      <td>4</td>\n",
       "      <td>1</td>\n",
       "      <td>17</td>\n",
       "      <td>1</td>\n",
       "      <td>9</td>\n",
       "      <td>1</td>\n",
       "      <td>0</td>\n",
       "      <td>281</td>\n",
       "      <td>2017-09-30</td>\n",
       "      <td>0</td>\n",
       "      <td>280</td>\n",
       "    </tr>\n",
       "    <tr>\n",
       "      <th>2</th>\n",
       "      <td>44</td>\n",
       "      <td>1506826139185781</td>\n",
       "      <td>2017-10-01</td>\n",
       "      <td>5</td>\n",
       "      <td>157541</td>\n",
       "      <td>2017-10-01</td>\n",
       "      <td>4</td>\n",
       "      <td>1</td>\n",
       "      <td>17</td>\n",
       "      <td>1</td>\n",
       "      <td>12</td>\n",
       "      <td>1</td>\n",
       "      <td>0</td>\n",
       "      <td>281</td>\n",
       "      <td>2017-09-30</td>\n",
       "      <td>0</td>\n",
       "      <td>280</td>\n",
       "    </tr>\n",
       "    <tr>\n",
       "      <th>3</th>\n",
       "      <td>45</td>\n",
       "      <td>1506826142324782</td>\n",
       "      <td>2017-10-01</td>\n",
       "      <td>2</td>\n",
       "      <td>157541</td>\n",
       "      <td>2017-10-01</td>\n",
       "      <td>4</td>\n",
       "      <td>1</td>\n",
       "      <td>17</td>\n",
       "      <td>1</td>\n",
       "      <td>17</td>\n",
       "      <td>1</td>\n",
       "      <td>0</td>\n",
       "      <td>281</td>\n",
       "      <td>2017-09-30</td>\n",
       "      <td>0</td>\n",
       "      <td>280</td>\n",
       "    </tr>\n",
       "    <tr>\n",
       "      <th>4</th>\n",
       "      <td>76</td>\n",
       "      <td>1506826463226813</td>\n",
       "      <td>2017-10-01</td>\n",
       "      <td>2</td>\n",
       "      <td>157541</td>\n",
       "      <td>2017-10-01</td>\n",
       "      <td>4</td>\n",
       "      <td>3</td>\n",
       "      <td>2</td>\n",
       "      <td>1</td>\n",
       "      <td>21</td>\n",
       "      <td>1</td>\n",
       "      <td>0</td>\n",
       "      <td>281</td>\n",
       "      <td>2017-09-30</td>\n",
       "      <td>0</td>\n",
       "      <td>280</td>\n",
       "    </tr>\n",
       "  </tbody>\n",
       "</table>\n",
       "</div>"
      ],
      "text/plain": [
       "  user_id        session_id session_start session_size article_id  \\\n",
       "0       0  1506825423271737    2017-10-01            2     157541   \n",
       "1      20  1506825727279757    2017-10-01            2     157541   \n",
       "2      44  1506826139185781    2017-10-01            5     157541   \n",
       "3      45  1506826142324782    2017-10-01            2     157541   \n",
       "4      76  1506826463226813    2017-10-01            2     157541   \n",
       "\n",
       "  click_timestamp click_environment click_deviceGroup click_os click_country  \\\n",
       "0      2017-10-01                 4                 3       20             1   \n",
       "1      2017-10-01                 4                 1       17             1   \n",
       "2      2017-10-01                 4                 1       17             1   \n",
       "3      2017-10-01                 4                 1       17             1   \n",
       "4      2017-10-01                 4                 3        2             1   \n",
       "\n",
       "  click_region click_referrer_type  filename  category_id created_at_ts  \\\n",
       "0           20                   2         0          281    2017-09-30   \n",
       "1            9                   1         0          281    2017-09-30   \n",
       "2           12                   1         0          281    2017-09-30   \n",
       "3           17                   1         0          281    2017-09-30   \n",
       "4           21                   1         0          281    2017-09-30   \n",
       "\n",
       "   publisher_id  words_count  \n",
       "0             0          280  \n",
       "1             0          280  \n",
       "2             0          280  \n",
       "3             0          280  \n",
       "4             0          280  "
      ]
     },
     "execution_count": 17,
     "metadata": {},
     "output_type": "execute_result"
    }
   ],
   "source": [
    "# Merge DF\n",
    "clicks_articles = pd.merge(clicks, articles, how='inner', on='article_id')\n",
    "\n",
    "# Convert timestamp to datetime\n",
    "clicks_articles['session_start'] = pd.to_datetime(clicks_articles['session_start'].dt.strftime('%Y/%m/%d'))\n",
    "clicks_articles['click_timestamp'] = pd.to_datetime(clicks_articles['click_timestamp'].dt.strftime('%Y/%m/%d'))\n",
    "\n",
    "# Display shape and 5 first rows\n",
    "print(clicks_articles.shape)\n",
    "clicks_articles.head()"
   ]
  },
  {
   "cell_type": "code",
   "execution_count": 18,
   "metadata": {
    "execution": {
     "iopub.execute_input": "2022-11-13T15:27:50.297086Z",
     "iopub.status.busy": "2022-11-13T15:27:50.296665Z",
     "iopub.status.idle": "2022-11-13T15:27:51.557465Z",
     "shell.execute_reply": "2022-11-13T15:27:51.556245Z",
     "shell.execute_reply.started": "2022-11-13T15:27:50.297042Z"
    },
    "papermill": {
     "duration": 1.229333,
     "end_time": "2022-11-12T01:38:15.61259",
     "exception": false,
     "start_time": "2022-11-12T01:38:14.383257",
     "status": "completed"
    },
    "tags": []
   },
   "outputs": [
    {
     "data": {
      "text/plain": [
       "<function matplotlib.pyplot.show(close=None, block=None)>"
      ]
     },
     "execution_count": 18,
     "metadata": {},
     "output_type": "execute_result"
    },
    {
     "data": {
      "image/png": "[encoded data removed]",
      "text/plain": [
       "<Figure size 1296x288 with 2 Axes>"
      ]
     },
     "metadata": {
      "needs_background": "light"
     },
     "output_type": "display_data"
    }
   ],
   "source": [
    "# Plot nb articles per categorie\n",
    "d = articles.groupby('category_id')['article_id'].nunique().sort_values(ascending=False)\n",
    "e = clicks_articles.groupby('category_id')['article_id'].count().sort_values(ascending=False)\n",
    "\n",
    "fig, (ax1, ax2) = plt.subplots(1, 2, figsize=(18, 4))\n",
    "d.head(30).plot(kind='bar', ax=ax1)\n",
    "ax1.set_title('Top30 ({}%) articles per category'.format(\n",
    "    round(sum(d.head(30))/sum(d) * 100, 0)),\n",
    "    fontsize=12, fontweight='bold')\n",
    "e.head(30).plot(kind='bar', ax=ax2)\n",
    "ax2.set_title('Top30 ({}%) most read articles per category'.format(\n",
    "    round(sum(e.head(30))/sum(e) * 100, 0)),\n",
    "    fontsize=12, fontweight='bold')\n",
    "plt.show"
   ]
  },
  {
   "cell_type": "code",
   "execution_count": 19,
   "metadata": {
    "execution": {
     "iopub.execute_input": "2022-11-13T15:27:53.076919Z",
     "iopub.status.busy": "2022-11-13T15:27:53.076494Z",
     "iopub.status.idle": "2022-11-13T15:27:53.08401Z",
     "shell.execute_reply": "2022-11-13T15:27:53.082686Z",
     "shell.execute_reply.started": "2022-11-13T15:27:53.076886Z"
    },
    "papermill": {
     "duration": 0.029173,
     "end_time": "2022-11-12T01:38:15.660445",
     "exception": false,
     "start_time": "2022-11-12T01:38:15.631272",
     "status": "completed"
    },
    "tags": []
   },
   "outputs": [
    {
     "name": "stdout",
     "output_type": "stream",
     "text": [
      "[281, 375, 399, 412, 431, 428, 26, 301, 442, 437, 118, 209, 354, 136, 331, 421, 436, 252]\n"
     ]
    }
   ],
   "source": [
    "def intersection(lst1, lst2):\n",
    "    lst3 = [value for value in lst1 if value in lst2]\n",
    "    return lst3\n",
    "\n",
    "print(intersection(d.head(30).index.to_list(), e.head(30).index.to_list()))"
   ]
  },
  {
   "cell_type": "markdown",
   "metadata": {
    "papermill": {
     "duration": 0.018275,
     "end_time": "2022-11-12T01:38:15.697314",
     "exception": false,
     "start_time": "2022-11-12T01:38:15.679039",
     "status": "completed"
    },
    "tags": []
   },
   "source": [
    "**Observations clés**\n",
    "\n",
    "* 50% des articles publiés appartiennent aux 30 premières catégories (461 au total) ;\n",
    "* Les catégories 281, 375 et 412 concentrent à la fois un grand nombre d'articles publiés (31 340 ; 68 % des articles) et un grand nombre d'articles consultés (817 994, 27 % des interactions) : probablement des sujets d'actualité (politique, économie, etc.) .\n",
    "\n",
    "REMARQUE : L'utilisation de la catégorie peut limiter nos recommandations aux articles populaires."
   ]
  },
  {
   "cell_type": "markdown",
   "metadata": {
    "papermill": {
     "duration": 0.018111,
     "end_time": "2022-11-12T01:38:15.733865",
     "exception": false,
     "start_time": "2022-11-12T01:38:15.715754",
     "status": "completed"
    },
    "tags": []
   },
   "source": [
    "### Mot par article"
   ]
  },
  {
   "cell_type": "code",
   "execution_count": 20,
   "metadata": {
    "execution": {
     "iopub.execute_input": "2022-11-13T15:28:00.835428Z",
     "iopub.status.busy": "2022-11-13T15:28:00.834985Z",
     "iopub.status.idle": "2022-11-13T15:28:01.137863Z",
     "shell.execute_reply": "2022-11-13T15:28:01.136737Z",
     "shell.execute_reply.started": "2022-11-13T15:28:00.835392Z"
    },
    "papermill": {
     "duration": 0.338284,
     "end_time": "2022-11-12T01:38:16.090687",
     "exception": false,
     "start_time": "2022-11-12T01:38:15.752403",
     "status": "completed"
    },
    "tags": []
   },
   "outputs": [
    {
     "name": "stdout",
     "output_type": "stream",
     "text": [
      "# word per article, Mean: 191.0 - Min: 0, Max: 6690.\n",
      "Half of articles have between159.0 and 218.0 words\n"
     ]
    },
    {
     "data": {
      "image/png": "[encoded data removed]",
      "text/plain": [
       "<Figure size 1080x288 with 2 Axes>"
      ]
     },
     "metadata": {
      "needs_background": "light"
     },
     "output_type": "display_data"
    }
   ],
   "source": [
    "x = articles['words_count']\n",
    "print(\n",
    "    '# word per article, Mean: {} - Min: {}, Max: {}.'.format(round(x.mean(), 0),\n",
    "                                                              x.min(),\n",
    "                                                              x.max()))\n",
    "print('Half of articles have between{} and {} words'.format(x.quantile(.25),\n",
    "                                                                      x.quantile(.75)))\n",
    "\n",
    "# Plot boxplot\n",
    "fig, (ax1, ax2) = plt.subplots (1, 2, figsize=(15, 4))\n",
    "ax1.boxplot(x)\n",
    "ax1.set_xlabel('# words')\n",
    "ax1.set_title('# words / article (with outliers)')\n",
    "ax2.boxplot(x, showfliers=False)\n",
    "ax2.set_xlabel('# words')\n",
    "ax2.set_title('# words / article (without outliers)')\n",
    "plt.show()\n"
   ]
  },
  {
   "cell_type": "code",
   "execution_count": 21,
   "metadata": {
    "execution": {
     "iopub.execute_input": "2022-11-13T15:28:05.756105Z",
     "iopub.status.busy": "2022-11-13T15:28:05.755673Z",
     "iopub.status.idle": "2022-11-13T15:28:05.778522Z",
     "shell.execute_reply": "2022-11-13T15:28:05.777372Z",
     "shell.execute_reply.started": "2022-11-13T15:28:05.756068Z"
    },
    "papermill": {
     "duration": 0.041495,
     "end_time": "2022-11-12T01:38:16.151134",
     "exception": false,
     "start_time": "2022-11-12T01:38:16.109639",
     "status": "completed"
    },
    "tags": []
   },
   "outputs": [
    {
     "name": "stdout",
     "output_type": "stream",
     "text": [
      "Number of articles involved:  35\n"
     ]
    },
    {
     "data": {
      "text/html": [
       "<div>\n",
       "<style scoped>\n",
       "    .dataframe tbody tr th:only-of-type {\n",
       "        vertical-align: middle;\n",
       "    }\n",
       "\n",
       "    .dataframe tbody tr th {\n",
       "        vertical-align: top;\n",
       "    }\n",
       "\n",
       "    .dataframe thead th {\n",
       "        text-align: right;\n",
       "    }\n",
       "</style>\n",
       "<table border=\"1\" class=\"dataframe\">\n",
       "  <thead>\n",
       "    <tr style=\"text-align: right;\">\n",
       "      <th></th>\n",
       "      <th>article_id</th>\n",
       "      <th>category_id</th>\n",
       "      <th>created_at_ts</th>\n",
       "      <th>publisher_id</th>\n",
       "      <th>words_count</th>\n",
       "    </tr>\n",
       "  </thead>\n",
       "  <tbody>\n",
       "    <tr>\n",
       "      <th>35491</th>\n",
       "      <td>35491</td>\n",
       "      <td>43</td>\n",
       "      <td>2016-08-04</td>\n",
       "      <td>0</td>\n",
       "      <td>0</td>\n",
       "    </tr>\n",
       "    <tr>\n",
       "      <th>38472</th>\n",
       "      <td>38472</td>\n",
       "      <td>51</td>\n",
       "      <td>2011-04-21</td>\n",
       "      <td>0</td>\n",
       "      <td>0</td>\n",
       "    </tr>\n",
       "    <tr>\n",
       "      <th>39043</th>\n",
       "      <td>39043</td>\n",
       "      <td>64</td>\n",
       "      <td>2014-06-30</td>\n",
       "      <td>0</td>\n",
       "      <td>0</td>\n",
       "    </tr>\n",
       "    <tr>\n",
       "      <th>39054</th>\n",
       "      <td>39054</td>\n",
       "      <td>64</td>\n",
       "      <td>2015-01-21</td>\n",
       "      <td>0</td>\n",
       "      <td>0</td>\n",
       "    </tr>\n",
       "    <tr>\n",
       "      <th>164414</th>\n",
       "      <td>164414</td>\n",
       "      <td>288</td>\n",
       "      <td>2015-03-30</td>\n",
       "      <td>0</td>\n",
       "      <td>0</td>\n",
       "    </tr>\n",
       "    <tr>\n",
       "      <th>206233</th>\n",
       "      <td>206233</td>\n",
       "      <td>331</td>\n",
       "      <td>2017-09-30</td>\n",
       "      <td>0</td>\n",
       "      <td>0</td>\n",
       "    </tr>\n",
       "    <tr>\n",
       "      <th>212323</th>\n",
       "      <td>212323</td>\n",
       "      <td>343</td>\n",
       "      <td>2010-04-19</td>\n",
       "      <td>0</td>\n",
       "      <td>0</td>\n",
       "    </tr>\n",
       "    <tr>\n",
       "      <th>212324</th>\n",
       "      <td>212324</td>\n",
       "      <td>343</td>\n",
       "      <td>2010-04-16</td>\n",
       "      <td>0</td>\n",
       "      <td>0</td>\n",
       "    </tr>\n",
       "    <tr>\n",
       "      <th>212327</th>\n",
       "      <td>212327</td>\n",
       "      <td>343</td>\n",
       "      <td>2014-08-11</td>\n",
       "      <td>0</td>\n",
       "      <td>0</td>\n",
       "    </tr>\n",
       "    <tr>\n",
       "      <th>212526</th>\n",
       "      <td>212526</td>\n",
       "      <td>347</td>\n",
       "      <td>2018-01-28</td>\n",
       "      <td>0</td>\n",
       "      <td>0</td>\n",
       "    </tr>\n",
       "    <tr>\n",
       "      <th>233934</th>\n",
       "      <td>233934</td>\n",
       "      <td>375</td>\n",
       "      <td>2017-10-05</td>\n",
       "      <td>0</td>\n",
       "      <td>0</td>\n",
       "    </tr>\n",
       "    <tr>\n",
       "      <th>236119</th>\n",
       "      <td>236119</td>\n",
       "      <td>375</td>\n",
       "      <td>2017-08-17</td>\n",
       "      <td>0</td>\n",
       "      <td>0</td>\n",
       "    </tr>\n",
       "    <tr>\n",
       "      <th>248114</th>\n",
       "      <td>248114</td>\n",
       "      <td>386</td>\n",
       "      <td>2018-01-28</td>\n",
       "      <td>0</td>\n",
       "      <td>0</td>\n",
       "    </tr>\n",
       "    <tr>\n",
       "      <th>275183</th>\n",
       "      <td>275183</td>\n",
       "      <td>408</td>\n",
       "      <td>2014-05-20</td>\n",
       "      <td>0</td>\n",
       "      <td>0</td>\n",
       "    </tr>\n",
       "    <tr>\n",
       "      <th>315386</th>\n",
       "      <td>315386</td>\n",
       "      <td>431</td>\n",
       "      <td>2015-01-14</td>\n",
       "      <td>0</td>\n",
       "      <td>0</td>\n",
       "    </tr>\n",
       "    <tr>\n",
       "      <th>315387</th>\n",
       "      <td>315387</td>\n",
       "      <td>431</td>\n",
       "      <td>2015-01-13</td>\n",
       "      <td>0</td>\n",
       "      <td>0</td>\n",
       "    </tr>\n",
       "    <tr>\n",
       "      <th>315388</th>\n",
       "      <td>315388</td>\n",
       "      <td>431</td>\n",
       "      <td>2015-01-14</td>\n",
       "      <td>0</td>\n",
       "      <td>0</td>\n",
       "    </tr>\n",
       "    <tr>\n",
       "      <th>315389</th>\n",
       "      <td>315389</td>\n",
       "      <td>431</td>\n",
       "      <td>2015-01-20</td>\n",
       "      <td>0</td>\n",
       "      <td>0</td>\n",
       "    </tr>\n",
       "    <tr>\n",
       "      <th>315390</th>\n",
       "      <td>315390</td>\n",
       "      <td>431</td>\n",
       "      <td>2015-01-14</td>\n",
       "      <td>0</td>\n",
       "      <td>0</td>\n",
       "    </tr>\n",
       "    <tr>\n",
       "      <th>315391</th>\n",
       "      <td>315391</td>\n",
       "      <td>431</td>\n",
       "      <td>2015-01-29</td>\n",
       "      <td>0</td>\n",
       "      <td>0</td>\n",
       "    </tr>\n",
       "    <tr>\n",
       "      <th>315392</th>\n",
       "      <td>315392</td>\n",
       "      <td>431</td>\n",
       "      <td>2015-01-23</td>\n",
       "      <td>0</td>\n",
       "      <td>0</td>\n",
       "    </tr>\n",
       "    <tr>\n",
       "      <th>315393</th>\n",
       "      <td>315393</td>\n",
       "      <td>431</td>\n",
       "      <td>2015-01-16</td>\n",
       "      <td>0</td>\n",
       "      <td>0</td>\n",
       "    </tr>\n",
       "    <tr>\n",
       "      <th>315394</th>\n",
       "      <td>315394</td>\n",
       "      <td>431</td>\n",
       "      <td>2015-02-02</td>\n",
       "      <td>0</td>\n",
       "      <td>0</td>\n",
       "    </tr>\n",
       "    <tr>\n",
       "      <th>315395</th>\n",
       "      <td>315395</td>\n",
       "      <td>431</td>\n",
       "      <td>2015-02-05</td>\n",
       "      <td>0</td>\n",
       "      <td>0</td>\n",
       "    </tr>\n",
       "    <tr>\n",
       "      <th>315396</th>\n",
       "      <td>315396</td>\n",
       "      <td>431</td>\n",
       "      <td>2015-02-06</td>\n",
       "      <td>0</td>\n",
       "      <td>0</td>\n",
       "    </tr>\n",
       "    <tr>\n",
       "      <th>315397</th>\n",
       "      <td>315397</td>\n",
       "      <td>431</td>\n",
       "      <td>2015-02-04</td>\n",
       "      <td>0</td>\n",
       "      <td>0</td>\n",
       "    </tr>\n",
       "    <tr>\n",
       "      <th>315398</th>\n",
       "      <td>315398</td>\n",
       "      <td>431</td>\n",
       "      <td>2015-02-04</td>\n",
       "      <td>0</td>\n",
       "      <td>0</td>\n",
       "    </tr>\n",
       "    <tr>\n",
       "      <th>315788</th>\n",
       "      <td>315788</td>\n",
       "      <td>431</td>\n",
       "      <td>2015-01-26</td>\n",
       "      <td>0</td>\n",
       "      <td>0</td>\n",
       "    </tr>\n",
       "    <tr>\n",
       "      <th>315789</th>\n",
       "      <td>315789</td>\n",
       "      <td>431</td>\n",
       "      <td>2015-01-09</td>\n",
       "      <td>0</td>\n",
       "      <td>0</td>\n",
       "    </tr>\n",
       "    <tr>\n",
       "      <th>315790</th>\n",
       "      <td>315790</td>\n",
       "      <td>431</td>\n",
       "      <td>2015-02-26</td>\n",
       "      <td>0</td>\n",
       "      <td>0</td>\n",
       "    </tr>\n",
       "    <tr>\n",
       "      <th>315791</th>\n",
       "      <td>315791</td>\n",
       "      <td>431</td>\n",
       "      <td>2015-02-09</td>\n",
       "      <td>0</td>\n",
       "      <td>0</td>\n",
       "    </tr>\n",
       "    <tr>\n",
       "      <th>315792</th>\n",
       "      <td>315792</td>\n",
       "      <td>431</td>\n",
       "      <td>2015-03-10</td>\n",
       "      <td>0</td>\n",
       "      <td>0</td>\n",
       "    </tr>\n",
       "    <tr>\n",
       "      <th>315793</th>\n",
       "      <td>315793</td>\n",
       "      <td>431</td>\n",
       "      <td>2015-03-10</td>\n",
       "      <td>0</td>\n",
       "      <td>0</td>\n",
       "    </tr>\n",
       "    <tr>\n",
       "      <th>328318</th>\n",
       "      <td>328318</td>\n",
       "      <td>436</td>\n",
       "      <td>2017-05-04</td>\n",
       "      <td>0</td>\n",
       "      <td>0</td>\n",
       "    </tr>\n",
       "    <tr>\n",
       "      <th>333154</th>\n",
       "      <td>333154</td>\n",
       "      <td>437</td>\n",
       "      <td>2017-06-30</td>\n",
       "      <td>0</td>\n",
       "      <td>0</td>\n",
       "    </tr>\n",
       "  </tbody>\n",
       "</table>\n",
       "</div>"
      ],
      "text/plain": [
       "        article_id  category_id created_at_ts  publisher_id  words_count\n",
       "35491        35491           43    2016-08-04             0            0\n",
       "38472        38472           51    2011-04-21             0            0\n",
       "39043        39043           64    2014-06-30             0            0\n",
       "39054        39054           64    2015-01-21             0            0\n",
       "164414      164414          288    2015-03-30             0            0\n",
       "206233      206233          331    2017-09-30             0            0\n",
       "212323      212323          343    2010-04-19             0            0\n",
       "212324      212324          343    2010-04-16             0            0\n",
       "212327      212327          343    2014-08-11             0            0\n",
       "212526      212526          347    2018-01-28             0            0\n",
       "233934      233934          375    2017-10-05             0            0\n",
       "236119      236119          375    2017-08-17             0            0\n",
       "248114      248114          386    2018-01-28             0            0\n",
       "275183      275183          408    2014-05-20             0            0\n",
       "315386      315386          431    2015-01-14             0            0\n",
       "315387      315387          431    2015-01-13             0            0\n",
       "315388      315388          431    2015-01-14             0            0\n",
       "315389      315389          431    2015-01-20             0            0\n",
       "315390      315390          431    2015-01-14             0            0\n",
       "315391      315391          431    2015-01-29             0            0\n",
       "315392      315392          431    2015-01-23             0            0\n",
       "315393      315393          431    2015-01-16             0            0\n",
       "315394      315394          431    2015-02-02             0            0\n",
       "315395      315395          431    2015-02-05             0            0\n",
       "315396      315396          431    2015-02-06             0            0\n",
       "315397      315397          431    2015-02-04             0            0\n",
       "315398      315398          431    2015-02-04             0            0\n",
       "315788      315788          431    2015-01-26             0            0\n",
       "315789      315789          431    2015-01-09             0            0\n",
       "315790      315790          431    2015-02-26             0            0\n",
       "315791      315791          431    2015-02-09             0            0\n",
       "315792      315792          431    2015-03-10             0            0\n",
       "315793      315793          431    2015-03-10             0            0\n",
       "328318      328318          436    2017-05-04             0            0\n",
       "333154      333154          437    2017-06-30             0            0"
      ]
     },
     "execution_count": 21,
     "metadata": {},
     "output_type": "execute_result"
    }
   ],
   "source": [
    "# Focus on articles without words_count\n",
    "print('Number of articles involved: ', len(articles[articles['words_count'] == 0]))\n",
    "articles[articles['words_count'] == 0]"
   ]
  },
  {
   "cell_type": "markdown",
   "metadata": {
    "papermill": {
     "duration": 0.018925,
     "end_time": "2022-11-12T01:38:16.189788",
     "exception": false,
     "start_time": "2022-11-12T01:38:16.170863",
     "status": "completed"
    },
    "tags": []
   },
   "source": [
    "**Observations clés**\n",
    "\n",
    "* Les articles ont en moyenne ~200 mots ;\n",
    "* Nous avons quelques légères incohérences avec les articles sans paroles, principalement dans la catégorie 431."
   ]
  },
  {
   "cell_type": "markdown",
   "metadata": {
    "papermill": {
     "duration": 0.018905,
     "end_time": "2022-11-12T01:38:16.227805",
     "exception": false,
     "start_time": "2022-11-12T01:38:16.2089",
     "status": "completed"
    },
    "tags": []
   },
   "source": [
    "### Chronologie des lectures"
   ]
  },
  {
   "cell_type": "code",
   "execution_count": 22,
   "metadata": {
    "execution": {
     "iopub.execute_input": "2022-11-13T15:28:08.912441Z",
     "iopub.status.busy": "2022-11-13T15:28:08.912015Z",
     "iopub.status.idle": "2022-11-13T15:28:13.578421Z",
     "shell.execute_reply": "2022-11-13T15:28:13.577105Z",
     "shell.execute_reply.started": "2022-11-13T15:28:08.912405Z"
    },
    "papermill": {
     "duration": 4.755821,
     "end_time": "2022-11-12T01:38:21.003371",
     "exception": false,
     "start_time": "2022-11-12T01:38:16.24755",
     "status": "completed"
    },
    "tags": []
   },
   "outputs": [
    {
     "name": "stdout",
     "output_type": "stream",
     "text": [
      "Top10 articles interactions shape:  (240861, 19)\n",
      "Top10 articles views shape:  (94, 3)\n"
     ]
    },
    {
     "data": {
      "text/html": [
       "<div>\n",
       "<style scoped>\n",
       "    .dataframe tbody tr th:only-of-type {\n",
       "        vertical-align: middle;\n",
       "    }\n",
       "\n",
       "    .dataframe tbody tr th {\n",
       "        vertical-align: top;\n",
       "    }\n",
       "\n",
       "    .dataframe thead th {\n",
       "        text-align: right;\n",
       "    }\n",
       "</style>\n",
       "<table border=\"1\" class=\"dataframe\">\n",
       "  <thead>\n",
       "    <tr style=\"text-align: right;\">\n",
       "      <th></th>\n",
       "      <th>article_id</th>\n",
       "      <th>view_recency</th>\n",
       "      <th>click_timestamp</th>\n",
       "    </tr>\n",
       "  </thead>\n",
       "  <tbody>\n",
       "    <tr>\n",
       "      <th>0</th>\n",
       "      <td>96210</td>\n",
       "      <td>0.0</td>\n",
       "      <td>1252</td>\n",
       "    </tr>\n",
       "    <tr>\n",
       "      <th>1</th>\n",
       "      <td>96210</td>\n",
       "      <td>1.0</td>\n",
       "      <td>17613</td>\n",
       "    </tr>\n",
       "    <tr>\n",
       "      <th>2</th>\n",
       "      <td>96210</td>\n",
       "      <td>2.0</td>\n",
       "      <td>2663</td>\n",
       "    </tr>\n",
       "    <tr>\n",
       "      <th>3</th>\n",
       "      <td>96210</td>\n",
       "      <td>3.0</td>\n",
       "      <td>34</td>\n",
       "    </tr>\n",
       "    <tr>\n",
       "      <th>4</th>\n",
       "      <td>96210</td>\n",
       "      <td>4.0</td>\n",
       "      <td>12</td>\n",
       "    </tr>\n",
       "  </tbody>\n",
       "</table>\n",
       "</div>"
      ],
      "text/plain": [
       "   article_id  view_recency  click_timestamp\n",
       "0       96210           0.0             1252\n",
       "1       96210           1.0            17613\n",
       "2       96210           2.0             2663\n",
       "3       96210           3.0               34\n",
       "4       96210           4.0               12"
      ]
     },
     "execution_count": 22,
     "metadata": {},
     "output_type": "execute_result"
    }
   ],
   "source": [
    "# Calculate view recency\n",
    "clicks_articles['view_recency'] = clicks_articles['click_timestamp'] - clicks_articles['created_at_ts']\n",
    "clicks_articles['view_recency'] = (clicks_articles['view_recency'] / pd.Timedelta(days=1))\n",
    "\n",
    "# Filter article by popularity\n",
    "articles_popularity = clicks_articles.groupby('article_id', as_index=False)['click_timestamp'].count()\n",
    "articles_popularity.rename(columns={'click_timestamp':'nbClicks'}, inplace=True)\n",
    "articles_popularity.sort_values(by=['nbClicks'], ascending=False, inplace=True)\n",
    "\n",
    "# Keep only the top 10 articles for analysis\n",
    "articles_top10 = articles_popularity.head(10)\n",
    "\n",
    "# Merge the top10 with 1st DF to track creation and start session date\n",
    "articles_top10 = pd.merge(articles_top10, clicks_articles, on='article_id')\n",
    "\n",
    "# Ensure there is no inconsistent data\n",
    "articles_top10 = articles_top10[articles_top10.view_recency >= 0]\n",
    "print('Top10 articles interactions shape: ', articles_top10.shape)\n",
    "\n",
    "# Create DF with only the top10 articles\n",
    "top10_clicks_per_day = pd.DataFrame(\n",
    "    articles_top10.groupby(['article_id','view_recency'], as_index=False)['click_timestamp'].count())\n",
    "\n",
    "# Display shape and 5 first rows\n",
    "print('Top10 articles views shape: ', top10_clicks_per_day.shape)\n",
    "top10_clicks_per_day.head()"
   ]
  },
  {
   "cell_type": "code",
   "execution_count": 23,
   "metadata": {
    "execution": {
     "iopub.execute_input": "2022-11-13T15:28:15.881232Z",
     "iopub.status.busy": "2022-11-13T15:28:15.880852Z",
     "iopub.status.idle": "2022-11-13T15:28:16.311271Z",
     "shell.execute_reply": "2022-11-13T15:28:16.310113Z",
     "shell.execute_reply.started": "2022-11-13T15:28:15.881201Z"
    },
    "papermill": {
     "duration": 0.473653,
     "end_time": "2022-11-12T01:38:21.497049",
     "exception": false,
     "start_time": "2022-11-12T01:38:21.023396",
     "status": "completed"
    },
    "tags": []
   },
   "outputs": [
    {
     "data": {
      "image/png": "[encoded data removed]",
      "text/plain": [
       "<Figure size 1080x288 with 1 Axes>"
      ]
     },
     "metadata": {
      "needs_background": "light"
     },
     "output_type": "display_data"
    }
   ],
   "source": [
    "# Plot articles view per 1st day to 15th day\n",
    "plt.figure(figsize=(15, 4))\n",
    "palette = sns.color_palette('hls', 10)\n",
    "sns.lineplot(x=top10_clicks_per_day['view_recency'],\n",
    "             y=top10_clicks_per_day['click_timestamp'],\n",
    "             hue=top10_clicks_per_day['article_id'],\n",
    "             data=top10_clicks_per_day,\n",
    "             palette=palette,\n",
    "             marker='o')\n",
    "plt.xticks(range(0, len(top10_clicks_per_day.view_recency.unique())+1))\n",
    "plt.xlabel('Recency of reading day')\n",
    "plt.legend(top10_clicks_per_day.article_id.unique(), title='articleID')\n",
    "plt.title('# of readings per day in top 10 articles',\n",
    "          fontsize=14, fontweight='bold')\n",
    "plt.show()"
   ]
  },
  {
   "cell_type": "markdown",
   "metadata": {
    "papermill": {
     "duration": 0.020101,
     "end_time": "2022-11-12T01:38:21.538161",
     "exception": false,
     "start_time": "2022-11-12T01:38:21.51806",
     "status": "completed"
    },
    "tags": []
   },
   "source": [
    "**Observations clés**\n",
    "\n",
    "Sur le top10, les articles sont consultés soit le jour même soit le lendemain, et l'intérêt décroît très vite les jours suivants."
   ]
  },
  {
   "cell_type": "markdown",
   "metadata": {
    "papermill": {
     "duration": 0.020519,
     "end_time": "2022-11-12T01:38:21.578986",
     "exception": false,
     "start_time": "2022-11-12T01:38:21.558467",
     "status": "completed"
    },
    "tags": []
   },
   "source": [
    "# Conclusions"
   ]
  },
  {
   "cell_type": "markdown",
   "metadata": {
    "papermill": {
     "duration": 0.020057,
     "end_time": "2022-11-12T01:38:21.619348",
     "exception": false,
     "start_time": "2022-11-12T01:38:21.599291",
     "status": "completed"
    },
    "tags": []
   },
   "source": [
    "Dans ce jeu de données nous n'avons que des données implicites (pas de notation explicite) : les données sont binaires (article lu/non lu par l'utilisateur, sans scores ni notations).\n",
    "\n",
    "* **Avantage** : ils sont faciles à récupérer ;\n",
    "* **Inconvénient** : ils ne donnent aucune indication que l'utilisateur n'aime pas un article ou que l'article consulté le concerne ou concerne un tiers.\n",
    "* **Nous n'avons pas pu créer de données actionnables supplémentaires** comme la durée de consultation (cela aurait peut-être permis de créer artificiellement une note sur l'intérêt porté à l'article)"
   ]
  },
  {
   "cell_type": "markdown",
   "metadata": {},
   "source": [
    "# Création de modèles "
   ]
  },
  {
   "cell_type": "markdown",
   "metadata": {},
   "source": [
    "L'objectif général d'une méthode de recommandation est de *prédire les valeurs manquantes* d'une matrice utilisateur-élément, où chaque utilisateur est associé à une ligne et chaque élément à une colonne."
   ]
  },
  {
   "cell_type": "markdown",
   "metadata": {},
   "source": [
    "Ce cahier a pour objectif de présenter les étapes de conception de 3 modèles de recommandation :\n",
    "\n",
    "* Un modèle non personnalisé basé sur la popularité de l'article ;\n",
    "* Un modèle basé sur le contenu ;\n",
    "* Un modèle basé sur le filtrage collaboratif."
   ]
  },
  {
   "cell_type": "markdown",
   "metadata": {},
   "source": [
    "# Recommenders systems theory"
   ]
  },
  {
   "cell_type": "markdown",
   "metadata": {},
   "source": [
    "There are two main types of recommender systems – personalized and non-personalized.\n",
    "\n",
    "* **Non-personalized recommendation systems** like popularity based recommenders recommend the most popular items to the users, for instance top-10 movies, top selling books, the most frequently purchased products.\n",
    "* **Personalized recommender system** analyzes users data, their purchases, rating and their relationships with other users in more detail. In that way every user will get customized recommendations."
   ]
  },
  {
   "cell_type": "markdown",
   "metadata": {},
   "source": [
    "* Les types les plus populaires de systèmes de recommandation personnalisés sont le filtrage basé sur le contenu et le filtrage collaboratif.\n",
    "* Les systèmes de recommandation non personnalisés, tels que les recommandations basées sur la popularité, recommandent les articles les plus populaires aux utilisateurs, par exemple les 10 meilleurs films, les livres les plus vendus, les produits les plus fréquemment achetés."
   ]
  },
  {
   "cell_type": "markdown",
   "metadata": {},
   "source": [
    "# Préparation de données"
   ]
  },
  {
   "cell_type": "code",
   "execution_count": 24,
   "metadata": {},
   "outputs": [],
   "source": [
    "import pandas as pd\n",
    "import numpy as np\n",
    "from pathlib import Path\n",
    "import os\n",
    "\n",
    "def load_data(src_path, click_path):\n",
    "\n",
    "    articles = pd.read_csv(src_path / 'articles_metadata.csv')\n",
    "    articles.drop(columns=['publisher_id'], inplace=True)\n",
    "    articles = articles.astype(np.int64)\n",
    "\n",
    "    embeddings = pd.read_pickle(src_path / 'articles_embeddings.pickle')\n",
    "    embeddings = embeddings.astype(np.float32)\n",
    "\n",
    "    clicks = pd.DataFrame().append([pd.read_csv(click_path / file) for file in sorted(os.listdir(click_path))],ignore_index=True)\n",
    "    clicks.rename(columns={'click_article_id':'article_id'}, inplace=True)\n",
    "    clicks.drop(columns=['click_environment', 'click_deviceGroup', 'click_os', 'click_country', 'click_region', 'click_referrer_type'], inplace=True)\n",
    "    clicks = clicks.astype(np.int64)\n",
    "\n",
    "    return articles, embeddings, clicks"
   ]
  },
  {
   "cell_type": "code",
   "execution_count": 25,
   "metadata": {},
   "outputs": [
    {
     "name": "stdout",
     "output_type": "stream",
     "text": [
      "Articles Dataframe shape:  (364047, 4)\n",
      "Embedding Matrix shape:  (364047, 250)\n",
      "Clicks Dataframe shape:  (2988181, 6)\n"
     ]
    }
   ],
   "source": [
    "src_path = Path('/home/morlot/code/Anaconda/OpenClassroom/Projet 9 Réalisez une application de recommandation de contenu/news-portal-user-interactions-by-globocom')\n",
    "\n",
    "click_path = Path('/home/morlot/code/Anaconda/OpenClassroom/Projet 9 Réalisez une application de recommandation de contenu/news-portal-user-interactions-by-globocom/clicks')\n",
    "\n",
    "articles, embeddings, clicks = load_data(src_path, click_path)\n",
    "\n",
    "print('Articles Dataframe shape: ', articles.shape)\n",
    "print('Embedding Matrix shape: ', embeddings.shape)\n",
    "print('Clicks Dataframe shape: ', clicks.shape)"
   ]
  },
  {
   "cell_type": "markdown",
   "metadata": {},
   "source": [
    "## Interaction des données"
   ]
  },
  {
   "cell_type": "code",
   "execution_count": 26,
   "metadata": {},
   "outputs": [
    {
     "name": "stdout",
     "output_type": "stream",
     "text": [
      "(2988181, 6)\n",
      "Clicks Dataframe shape:  (2988181, 6)\n"
     ]
    }
   ],
   "source": [
    "print(clicks.shape)\n",
    "# Display DF shape and 5 first rows\n",
    "print('Clicks Dataframe shape: ', clicks.shape)\n",
    "clicks.head()\n",
    "\n",
    "clicks.to_csv('./clicks.csv', index=False)"
   ]
  },
  {
   "cell_type": "markdown",
   "metadata": {},
   "source": [
    "## Data article"
   ]
  },
  {
   "cell_type": "code",
   "execution_count": 27,
   "metadata": {},
   "outputs": [
    {
     "name": "stdout",
     "output_type": "stream",
     "text": [
      "Articles Dataframe shape:  (364047, 4)\n"
     ]
    },
    {
     "data": {
      "text/html": [
       "<div>\n",
       "<style scoped>\n",
       "    .dataframe tbody tr th:only-of-type {\n",
       "        vertical-align: middle;\n",
       "    }\n",
       "\n",
       "    .dataframe tbody tr th {\n",
       "        vertical-align: top;\n",
       "    }\n",
       "\n",
       "    .dataframe thead th {\n",
       "        text-align: right;\n",
       "    }\n",
       "</style>\n",
       "<table border=\"1\" class=\"dataframe\">\n",
       "  <thead>\n",
       "    <tr style=\"text-align: right;\">\n",
       "      <th></th>\n",
       "      <th>article_id</th>\n",
       "      <th>category_id</th>\n",
       "      <th>created_at_ts</th>\n",
       "      <th>words_count</th>\n",
       "    </tr>\n",
       "  </thead>\n",
       "  <tbody>\n",
       "    <tr>\n",
       "      <th>0</th>\n",
       "      <td>0</td>\n",
       "      <td>0</td>\n",
       "      <td>1513144419000</td>\n",
       "      <td>168</td>\n",
       "    </tr>\n",
       "    <tr>\n",
       "      <th>1</th>\n",
       "      <td>1</td>\n",
       "      <td>1</td>\n",
       "      <td>1405341936000</td>\n",
       "      <td>189</td>\n",
       "    </tr>\n",
       "    <tr>\n",
       "      <th>2</th>\n",
       "      <td>2</td>\n",
       "      <td>1</td>\n",
       "      <td>1408667706000</td>\n",
       "      <td>250</td>\n",
       "    </tr>\n",
       "    <tr>\n",
       "      <th>3</th>\n",
       "      <td>3</td>\n",
       "      <td>1</td>\n",
       "      <td>1408468313000</td>\n",
       "      <td>230</td>\n",
       "    </tr>\n",
       "    <tr>\n",
       "      <th>4</th>\n",
       "      <td>4</td>\n",
       "      <td>1</td>\n",
       "      <td>1407071171000</td>\n",
       "      <td>162</td>\n",
       "    </tr>\n",
       "  </tbody>\n",
       "</table>\n",
       "</div>"
      ],
      "text/plain": [
       "   article_id  category_id  created_at_ts  words_count\n",
       "0           0            0  1513144419000          168\n",
       "1           1            1  1405341936000          189\n",
       "2           2            1  1408667706000          250\n",
       "3           3            1  1408468313000          230\n",
       "4           4            1  1407071171000          162"
      ]
     },
     "execution_count": 27,
     "metadata": {},
     "output_type": "execute_result"
    }
   ],
   "source": [
    "# Display DF shape and 5 first rows\n",
    "print('Articles Dataframe shape: ', articles.shape)\n",
    "clicks[clicks[\"article_id\"] == 157541]\n",
    "\n",
    "articles.head()"
   ]
  },
  {
   "cell_type": "markdown",
   "metadata": {},
   "source": [
    "## Embeddings data"
   ]
  },
  {
   "cell_type": "code",
   "execution_count": 28,
   "metadata": {},
   "outputs": [
    {
     "name": "stdout",
     "output_type": "stream",
     "text": [
      "Embedding Matrix shape:  (364047, 250)\n"
     ]
    },
    {
     "data": {
      "text/html": [
       "<div>\n",
       "<style scoped>\n",
       "    .dataframe tbody tr th:only-of-type {\n",
       "        vertical-align: middle;\n",
       "    }\n",
       "\n",
       "    .dataframe tbody tr th {\n",
       "        vertical-align: top;\n",
       "    }\n",
       "\n",
       "    .dataframe thead th {\n",
       "        text-align: right;\n",
       "    }\n",
       "</style>\n",
       "<table border=\"1\" class=\"dataframe\">\n",
       "  <thead>\n",
       "    <tr style=\"text-align: right;\">\n",
       "      <th></th>\n",
       "      <th>0</th>\n",
       "      <th>1</th>\n",
       "      <th>2</th>\n",
       "      <th>3</th>\n",
       "      <th>4</th>\n",
       "      <th>5</th>\n",
       "      <th>6</th>\n",
       "      <th>7</th>\n",
       "      <th>8</th>\n",
       "      <th>9</th>\n",
       "      <th>...</th>\n",
       "      <th>240</th>\n",
       "      <th>241</th>\n",
       "      <th>242</th>\n",
       "      <th>243</th>\n",
       "      <th>244</th>\n",
       "      <th>245</th>\n",
       "      <th>246</th>\n",
       "      <th>247</th>\n",
       "      <th>248</th>\n",
       "      <th>249</th>\n",
       "    </tr>\n",
       "  </thead>\n",
       "  <tbody>\n",
       "    <tr>\n",
       "      <th>0</th>\n",
       "      <td>-0.161183</td>\n",
       "      <td>-0.957233</td>\n",
       "      <td>-0.137944</td>\n",
       "      <td>0.050855</td>\n",
       "      <td>0.830055</td>\n",
       "      <td>0.901365</td>\n",
       "      <td>-0.335148</td>\n",
       "      <td>-0.559561</td>\n",
       "      <td>-0.500603</td>\n",
       "      <td>0.165183</td>\n",
       "      <td>...</td>\n",
       "      <td>0.321248</td>\n",
       "      <td>0.313999</td>\n",
       "      <td>0.636412</td>\n",
       "      <td>0.169179</td>\n",
       "      <td>0.540524</td>\n",
       "      <td>-0.813182</td>\n",
       "      <td>0.286870</td>\n",
       "      <td>-0.231686</td>\n",
       "      <td>0.597416</td>\n",
       "      <td>0.409623</td>\n",
       "    </tr>\n",
       "    <tr>\n",
       "      <th>1</th>\n",
       "      <td>-0.523216</td>\n",
       "      <td>-0.974058</td>\n",
       "      <td>0.738608</td>\n",
       "      <td>0.155234</td>\n",
       "      <td>0.626294</td>\n",
       "      <td>0.485297</td>\n",
       "      <td>-0.715657</td>\n",
       "      <td>-0.897996</td>\n",
       "      <td>-0.359747</td>\n",
       "      <td>0.398246</td>\n",
       "      <td>...</td>\n",
       "      <td>-0.487843</td>\n",
       "      <td>0.823124</td>\n",
       "      <td>0.412688</td>\n",
       "      <td>-0.338654</td>\n",
       "      <td>0.320787</td>\n",
       "      <td>0.588643</td>\n",
       "      <td>-0.594137</td>\n",
       "      <td>0.182828</td>\n",
       "      <td>0.397090</td>\n",
       "      <td>-0.834364</td>\n",
       "    </tr>\n",
       "    <tr>\n",
       "      <th>2</th>\n",
       "      <td>-0.619619</td>\n",
       "      <td>-0.972960</td>\n",
       "      <td>-0.207360</td>\n",
       "      <td>-0.128861</td>\n",
       "      <td>0.044748</td>\n",
       "      <td>-0.387535</td>\n",
       "      <td>-0.730477</td>\n",
       "      <td>-0.066126</td>\n",
       "      <td>-0.754899</td>\n",
       "      <td>-0.242004</td>\n",
       "      <td>...</td>\n",
       "      <td>0.454756</td>\n",
       "      <td>0.473184</td>\n",
       "      <td>0.377866</td>\n",
       "      <td>-0.863887</td>\n",
       "      <td>-0.383365</td>\n",
       "      <td>0.137721</td>\n",
       "      <td>-0.810877</td>\n",
       "      <td>-0.447580</td>\n",
       "      <td>0.805932</td>\n",
       "      <td>-0.285284</td>\n",
       "    </tr>\n",
       "    <tr>\n",
       "      <th>3</th>\n",
       "      <td>-0.740843</td>\n",
       "      <td>-0.975749</td>\n",
       "      <td>0.391698</td>\n",
       "      <td>0.641738</td>\n",
       "      <td>-0.268645</td>\n",
       "      <td>0.191745</td>\n",
       "      <td>-0.825593</td>\n",
       "      <td>-0.710591</td>\n",
       "      <td>-0.040099</td>\n",
       "      <td>-0.110514</td>\n",
       "      <td>...</td>\n",
       "      <td>0.271535</td>\n",
       "      <td>0.036040</td>\n",
       "      <td>0.480029</td>\n",
       "      <td>-0.763173</td>\n",
       "      <td>0.022627</td>\n",
       "      <td>0.565165</td>\n",
       "      <td>-0.910286</td>\n",
       "      <td>-0.537838</td>\n",
       "      <td>0.243541</td>\n",
       "      <td>-0.885329</td>\n",
       "    </tr>\n",
       "    <tr>\n",
       "      <th>4</th>\n",
       "      <td>-0.279052</td>\n",
       "      <td>-0.972315</td>\n",
       "      <td>0.685374</td>\n",
       "      <td>0.113056</td>\n",
       "      <td>0.238315</td>\n",
       "      <td>0.271913</td>\n",
       "      <td>-0.568816</td>\n",
       "      <td>0.341194</td>\n",
       "      <td>-0.600554</td>\n",
       "      <td>-0.125644</td>\n",
       "      <td>...</td>\n",
       "      <td>0.238286</td>\n",
       "      <td>0.809268</td>\n",
       "      <td>0.427521</td>\n",
       "      <td>-0.615932</td>\n",
       "      <td>-0.503697</td>\n",
       "      <td>0.614450</td>\n",
       "      <td>-0.917760</td>\n",
       "      <td>-0.424061</td>\n",
       "      <td>0.185484</td>\n",
       "      <td>-0.580292</td>\n",
       "    </tr>\n",
       "  </tbody>\n",
       "</table>\n",
       "<p>5 rows × 250 columns</p>\n",
       "</div>"
      ],
      "text/plain": [
       "        0         1         2         3         4         5         6    \\\n",
       "0 -0.161183 -0.957233 -0.137944  0.050855  0.830055  0.901365 -0.335148   \n",
       "1 -0.523216 -0.974058  0.738608  0.155234  0.626294  0.485297 -0.715657   \n",
       "2 -0.619619 -0.972960 -0.207360 -0.128861  0.044748 -0.387535 -0.730477   \n",
       "3 -0.740843 -0.975749  0.391698  0.641738 -0.268645  0.191745 -0.825593   \n",
       "4 -0.279052 -0.972315  0.685374  0.113056  0.238315  0.271913 -0.568816   \n",
       "\n",
       "        7         8         9    ...       240       241       242       243  \\\n",
       "0 -0.559561 -0.500603  0.165183  ...  0.321248  0.313999  0.636412  0.169179   \n",
       "1 -0.897996 -0.359747  0.398246  ... -0.487843  0.823124  0.412688 -0.338654   \n",
       "2 -0.066126 -0.754899 -0.242004  ...  0.454756  0.473184  0.377866 -0.863887   \n",
       "3 -0.710591 -0.040099 -0.110514  ...  0.271535  0.036040  0.480029 -0.763173   \n",
       "4  0.341194 -0.600554 -0.125644  ...  0.238286  0.809268  0.427521 -0.615932   \n",
       "\n",
       "        244       245       246       247       248       249  \n",
       "0  0.540524 -0.813182  0.286870 -0.231686  0.597416  0.409623  \n",
       "1  0.320787  0.588643 -0.594137  0.182828  0.397090 -0.834364  \n",
       "2 -0.383365  0.137721 -0.810877 -0.447580  0.805932 -0.285284  \n",
       "3  0.022627  0.565165 -0.910286 -0.537838  0.243541 -0.885329  \n",
       "4 -0.503697  0.614450 -0.917760 -0.424061  0.185484 -0.580292  \n",
       "\n",
       "[5 rows x 250 columns]"
      ]
     },
     "execution_count": 28,
     "metadata": {},
     "output_type": "execute_result"
    }
   ],
   "source": [
    "df_embeddings = pd.DataFrame(embeddings)\n",
    "print('Embedding Matrix shape: ', embeddings.shape)\n",
    "df_embeddings.head()"
   ]
  },
  {
   "cell_type": "markdown",
   "metadata": {},
   "source": [
    "## Valeur unique"
   ]
  },
  {
   "cell_type": "code",
   "execution_count": 29,
   "metadata": {},
   "outputs": [
    {
     "name": "stdout",
     "output_type": "stream",
     "text": [
      "Nombre unique d'utilisateur:  322897\n",
      "Nombre d'article unique:  364047\n",
      "Nombre d'article lu par les utilisateurs:  46033\n"
     ]
    }
   ],
   "source": [
    "print(\"Nombre unique d'utilisateur: \", clicks.user_id.nunique())\n",
    "print(\"Nombre d'article unique: \", articles.article_id.nunique())\n",
    "print(\"Nombre d'article lu par les utilisateurs: \", clicks.article_id.nunique())"
   ]
  },
  {
   "cell_type": "markdown",
   "metadata": {},
   "source": [
    "# Modèle de recommandation de popularité"
   ]
  },
  {
   "cell_type": "markdown",
   "metadata": {},
   "source": [
    "C'est un type de système de recommandation qui fonctionne sur le principe de la popularité et/ou de tout ce qui est à la mode. Ces systèmes vérifient les produits ou les films qui sont à la mode ou les plus populaires parmi les utilisateurs et les recommandent directement.\n",
    "\n",
    "Par exemple, si un produit est souvent acheté par la plupart des gens, le système saura que ce produit est le plus populaire, donc pour chaque nouvel utilisateur qui vient de le signer, le système recommandera également ce produit à cet utilisateur et les chances deviennent élevées que le nouvel utilisateur l'achètera également."
   ]
  },
  {
   "cell_type": "code",
   "execution_count": 30,
   "metadata": {},
   "outputs": [],
   "source": [
    "def get_popularity_rec(clicks, n_reco=5):\n",
    "    # Compute the most popular articles\n",
    "    df_popularity = clicks.groupby(by=['article_id'])['click_timestamp'].count().sort_values(ascending=False).reset_index()\n",
    "    df_popularity.rename(columns = {'user_id':'popularity'}, inplace=True)\n",
    "    return df_popularity.article_id.head(n_reco).to_list()"
   ]
  },
  {
   "cell_type": "markdown",
   "metadata": {},
   "source": [
    "# Modèle de recommandation basé sur le contenu"
   ]
  },
  {
   "cell_type": "markdown",
   "metadata": {},
   "source": [
    "Content-based Filtering is a recommendation system that recommend articles similar to those already seen by the user.\n",
    "\n",
    "**Principle**:\n",
    "\n",
    "* From the descriptions of the articles chosen or rated by a user, a profile of the user is constructed;\n",
    "* Articles whose characteristics are similar to the user's profile are recommended.\n",
    "* The lower the number of items chosen or rated by a user, the less reliable the profile obtained and therefore the recommendations made on this basis.\n",
    "* This system is therefore based on user history and access to article descriptions is essential: if user A has read 2 articles on cats, the system can recommend other articles on pets.\n",
    "\n",
    "**Disadvantages**:\n",
    "\n",
    "* While it is easy to identify substitute articles, it is clearly difficult to extrapolate from one field to another."
   ]
  },
  {
   "cell_type": "code",
   "execution_count": 31,
   "metadata": {},
   "outputs": [],
   "source": [
    "import pandas as pd\n",
    "import numpy as np\n",
    "from time import time\n",
    "from random import randint\n",
    "from sklearn.metrics.pairwise import cosine_similarity\n",
    "\n",
    "def get_cb_reco(userID, clicks, embeddings, n_reco=5):\n",
    "\n",
    "    print('User ID is : ', userID)\n",
    "\n",
    "    var = clicks.loc[clicks.user_id == userID]['article_id'].to_list()\n",
    "    \n",
    "    value = var[-1]\n",
    "    print('The last article read by the user is: ', value)\n",
    "    \n",
    "    emb = embeddings\n",
    "    for i in range (0, len(var)):\n",
    "        if i != value:\n",
    "            emb = np.delete(emb, [i], 0)\n",
    "    \n",
    "    temp = np.delete(emb, [value], 0)\n",
    "\n",
    "    distances = cosine_similarity([emb[value]], temp)[0]\n",
    "    \n",
    "    ranked_ids = np.argsort(distances)[::-1][0:n_reco]\n",
    "    ranked_similarities = np.sort(distances)[::-1][0:n_reco]\n",
    "    print('Recommended articles are: ')\n",
    "    \n",
    "    return ranked_ids.tolist()# , ranked_similarities.tolist()"
   ]
  },
  {
   "cell_type": "markdown",
   "metadata": {},
   "source": [
    "# Modèle de recommandation de filtrage collaboratif"
   ]
  },
  {
   "cell_type": "markdown",
   "metadata": {},
   "source": [
    "## Concepte de base"
   ]
  },
  {
   "cell_type": "markdown",
   "metadata": {},
   "source": [
    "**Collaborative Filtering** is a recommendation system that will attempt to predict a user's preferences based on the similar preferences of other users.\n",
    "\n",
    "This approach is based only on the user-item matrix, no intrinsic knowledge of the articles is necessary.\n",
    "\n",
    "**Principle:**\n",
    "* Offer a user articles similar to those he has already chosen (or rated) OR offer a user articles chosen (or rated) by similar users.\n",
    "* This system is therefore based both on the similarity between articles and between users to make its recommendations: if user A is similar to user B, and user B has read article 1, the system can recommend article 1 to user A even if he has never looked at similar articles.\n",
    "\n",
    "**Disadvantages:**\n",
    "If there is no sealing between the domains, on the other hand, ignorance of the characteristics of the articles makes it difficult to substitute missing articles."
   ]
  },
  {
   "cell_type": "markdown",
   "metadata": {},
   "source": [
    "## Evaluation des metrics"
   ]
  },
  {
   "cell_type": "markdown",
   "metadata": {},
   "source": [
    "Il existe différentes approches pour évaluer les performances du modèle et différentes métriques pour chaque approche :\n",
    "1. **Métriques d'évaluation** : elles sont utilisées pour évaluer la précision d'un système de recommandation dans la prévision des évaluations que les utilisateurs ont attribuées aux produits.\n",
    "    * *** Erreur quadratique moyenne (RMSE) *** - mesure de l'erreur moyenne des notes prédites\n",
    "    * *** R au carré (R<sup>2</sup>)*** – de combien est la variation totale expliquée par le modèle ?\n",
    "    * ***Erreur absolue moyenne (MAE)*** - similaire à RMSE mais utilise la valeur absolue plutôt que le carré et la racine carrée de la moyenne\n",
    "    * ***Variance expliquée*** : la part de variance dans les données expliquée par le modèle\n",
    "2. **Statistiques de classement** : elles sont utilisées pour évaluer l'intérêt des recommandations pour les utilisateurs.\n",
    "    * ***Précision*** - mesure la proportion de produits recommandés qui sont intéressants\n",
    "    * ***Rappel*** - mesure la proportion de produits intéressants recommandés\n",
    "    * *** Gain cumulé réduit normalisé (NDCG) *** - évalue dans quelle mesure les produits recommandés pour un utilisateur sont classés en fonction de la partinence\n",
    "    * *** Précision moyenne moyenne (MAP) *** - la précision moyenne pour chaque utilisateur normalisée pour tous les utilisateurs\n",
    "3. **Métriques basées sur la non-précision** : Celles-ci ne comparent pas les prédictions avec les vraies valeurs mais évaluent plutôt les propriétés des recommandations suivantes :\n",
    "    * ***Nouveauté*** - mesure la façon dont les nouveaux produits sont recommandés en calculant leur fréquence de recommandation parmi les utilisateurs\n",
    "    * ***Diversité*** - mesure à quel point les différents produits d'un ensemble sont différents les uns des autres\n",
    "    * ***Serendipity*** - mesure à quel point les recommandations faites pour un utilisateur spécifique sont surprenantes en les comparant avec des produits avec lesquels l'utilisateur a déjà interagi\n",
    "    * ***Couverture*** - mesure liée à la distribution des produits recommandés par le système"
   ]
  },
  {
   "cell_type": "markdown",
   "metadata": {},
   "source": [
    "Dans notre cas, nous utiliserons des métriques de rang, à savoir : Précision, NDCG et MAP."
   ]
  },
  {
   "cell_type": "markdown",
   "metadata": {},
   "source": [
    "## Préparation des data"
   ]
  },
  {
   "cell_type": "markdown",
   "metadata": {},
   "source": [
    "Tout d'abord il faut savoir si l'utilisateur a aimé ou non l'article qu'il a lu, pour cela il y a deux façons de le savoir :\n",
    "1. **Explicitement** : une note (binaire ou non)\n",
    "2. **Implicitement** : nombre de clics, temps passé sur la page, vidéo lue jusqu'à la fin, article défilé jusqu'à la fin, etc.\n",
    "\n",
    "Dans notre cas nous utiliserons un score implicite : le nombre de clics par article pondéré par le nombre total de clics par utilisateur."
   ]
  },
  {
   "cell_type": "code",
   "execution_count": 33,
   "metadata": {},
   "outputs": [],
   "source": [
    "def get_ratings(clicks):\n",
    "    \n",
    "    count_clicks_by_articles_by_user = clicks.groupby([\"user_id\", \"article_id\"]).agg(count_clicks_by_articles_by_user=(\"session_id\", \"count\"))\n",
    "    \n",
    "    count_clicks_by_user = clicks.groupby([\"user_id\"]).agg(count_clicks_by_user=(\"session_id\", \"count\"))\n",
    "    \n",
    "    clicks_count = count_clicks_by_articles_by_user.join(count_clicks_by_user, on=\"user_id\")\n",
    "    clicks_count['rating'] = clicks_count[\"count_clicks_by_articles_by_user\"] / clicks_count[\"count_clicks_by_user\"]\n",
    "    \n",
    "    ratings = clicks_count.reset_index().drop([\"count_clicks_by_articles_by_user\",\"count_clicks_by_user\"], axis=1).rename(columns={\"click_article_id\":\"article_id\"})\n",
    "    \n",
    "    return ratings"
   ]
  },
  {
   "cell_type": "code",
   "execution_count": 34,
   "metadata": {},
   "outputs": [
    {
     "data": {
      "text/html": [
       "<div>\n",
       "<style scoped>\n",
       "    .dataframe tbody tr th:only-of-type {\n",
       "        vertical-align: middle;\n",
       "    }\n",
       "\n",
       "    .dataframe tbody tr th {\n",
       "        vertical-align: top;\n",
       "    }\n",
       "\n",
       "    .dataframe thead th {\n",
       "        text-align: right;\n",
       "    }\n",
       "</style>\n",
       "<table border=\"1\" class=\"dataframe\">\n",
       "  <thead>\n",
       "    <tr style=\"text-align: right;\">\n",
       "      <th></th>\n",
       "      <th>user_id</th>\n",
       "      <th>article_id</th>\n",
       "      <th>rating</th>\n",
       "    </tr>\n",
       "  </thead>\n",
       "  <tbody>\n",
       "    <tr>\n",
       "      <th>0</th>\n",
       "      <td>0</td>\n",
       "      <td>68866</td>\n",
       "      <td>0.125</td>\n",
       "    </tr>\n",
       "    <tr>\n",
       "      <th>1</th>\n",
       "      <td>0</td>\n",
       "      <td>87205</td>\n",
       "      <td>0.125</td>\n",
       "    </tr>\n",
       "    <tr>\n",
       "      <th>2</th>\n",
       "      <td>0</td>\n",
       "      <td>87224</td>\n",
       "      <td>0.125</td>\n",
       "    </tr>\n",
       "    <tr>\n",
       "      <th>3</th>\n",
       "      <td>0</td>\n",
       "      <td>96755</td>\n",
       "      <td>0.125</td>\n",
       "    </tr>\n",
       "    <tr>\n",
       "      <th>4</th>\n",
       "      <td>0</td>\n",
       "      <td>157541</td>\n",
       "      <td>0.125</td>\n",
       "    </tr>\n",
       "    <tr>\n",
       "      <th>...</th>\n",
       "      <td>...</td>\n",
       "      <td>...</td>\n",
       "      <td>...</td>\n",
       "    </tr>\n",
       "    <tr>\n",
       "      <th>2950705</th>\n",
       "      <td>322894</td>\n",
       "      <td>168401</td>\n",
       "      <td>0.500</td>\n",
       "    </tr>\n",
       "    <tr>\n",
       "      <th>2950706</th>\n",
       "      <td>322895</td>\n",
       "      <td>63746</td>\n",
       "      <td>0.500</td>\n",
       "    </tr>\n",
       "    <tr>\n",
       "      <th>2950707</th>\n",
       "      <td>322895</td>\n",
       "      <td>289197</td>\n",
       "      <td>0.500</td>\n",
       "    </tr>\n",
       "    <tr>\n",
       "      <th>2950708</th>\n",
       "      <td>322896</td>\n",
       "      <td>30760</td>\n",
       "      <td>0.500</td>\n",
       "    </tr>\n",
       "    <tr>\n",
       "      <th>2950709</th>\n",
       "      <td>322896</td>\n",
       "      <td>157507</td>\n",
       "      <td>0.500</td>\n",
       "    </tr>\n",
       "  </tbody>\n",
       "</table>\n",
       "<p>2950710 rows × 3 columns</p>\n",
       "</div>"
      ],
      "text/plain": [
       "         user_id  article_id  rating\n",
       "0              0       68866   0.125\n",
       "1              0       87205   0.125\n",
       "2              0       87224   0.125\n",
       "3              0       96755   0.125\n",
       "4              0      157541   0.125\n",
       "...          ...         ...     ...\n",
       "2950705   322894      168401   0.500\n",
       "2950706   322895       63746   0.500\n",
       "2950707   322895      289197   0.500\n",
       "2950708   322896       30760   0.500\n",
       "2950709   322896      157507   0.500\n",
       "\n",
       "[2950710 rows x 3 columns]"
      ]
     },
     "execution_count": 34,
     "metadata": {},
     "output_type": "execute_result"
    }
   ],
   "source": [
    "ratings = get_ratings(clicks)\n",
    "ratings"
   ]
  },
  {
   "cell_type": "markdown",
   "metadata": {},
   "source": [
    "Maintenant que nous avons la note pour chaque article que l'utilisateur a lu, nous allons simplement comparer différents modèles et garder le plus performant."
   ]
  },
  {
   "cell_type": "markdown",
   "metadata": {},
   "source": [
    "## Échantillonnage de la trame de données "
   ]
  },
  {
   "cell_type": "code",
   "execution_count": 39,
   "metadata": {},
   "outputs": [
    {
     "data": {
      "text/html": [
       "<div>\n",
       "<style scoped>\n",
       "    .dataframe tbody tr th:only-of-type {\n",
       "        vertical-align: middle;\n",
       "    }\n",
       "\n",
       "    .dataframe tbody tr th {\n",
       "        vertical-align: top;\n",
       "    }\n",
       "\n",
       "    .dataframe thead th {\n",
       "        text-align: right;\n",
       "    }\n",
       "</style>\n",
       "<table border=\"1\" class=\"dataframe\">\n",
       "  <thead>\n",
       "    <tr style=\"text-align: right;\">\n",
       "      <th></th>\n",
       "      <th>user_id</th>\n",
       "      <th>article_id</th>\n",
       "      <th>rating</th>\n",
       "    </tr>\n",
       "  </thead>\n",
       "  <tbody>\n",
       "    <tr>\n",
       "      <th>2936274</th>\n",
       "      <td>317101</td>\n",
       "      <td>199393</td>\n",
       "      <td>0.500000</td>\n",
       "    </tr>\n",
       "    <tr>\n",
       "      <th>1620248</th>\n",
       "      <td>99395</td>\n",
       "      <td>59758</td>\n",
       "      <td>0.500000</td>\n",
       "    </tr>\n",
       "    <tr>\n",
       "      <th>612201</th>\n",
       "      <td>31691</td>\n",
       "      <td>293050</td>\n",
       "      <td>0.016393</td>\n",
       "    </tr>\n",
       "    <tr>\n",
       "      <th>1525674</th>\n",
       "      <td>90863</td>\n",
       "      <td>32750</td>\n",
       "      <td>0.076923</td>\n",
       "    </tr>\n",
       "    <tr>\n",
       "      <th>1100500</th>\n",
       "      <td>60312</td>\n",
       "      <td>236524</td>\n",
       "      <td>0.050000</td>\n",
       "    </tr>\n",
       "    <tr>\n",
       "      <th>...</th>\n",
       "      <td>...</td>\n",
       "      <td>...</td>\n",
       "      <td>...</td>\n",
       "    </tr>\n",
       "    <tr>\n",
       "      <th>2335685</th>\n",
       "      <td>182016</td>\n",
       "      <td>234282</td>\n",
       "      <td>0.166667</td>\n",
       "    </tr>\n",
       "    <tr>\n",
       "      <th>2037054</th>\n",
       "      <td>142268</td>\n",
       "      <td>214206</td>\n",
       "      <td>0.047619</td>\n",
       "    </tr>\n",
       "    <tr>\n",
       "      <th>1629687</th>\n",
       "      <td>100387</td>\n",
       "      <td>250118</td>\n",
       "      <td>0.052632</td>\n",
       "    </tr>\n",
       "    <tr>\n",
       "      <th>2916666</th>\n",
       "      <td>309688</td>\n",
       "      <td>285675</td>\n",
       "      <td>0.333333</td>\n",
       "    </tr>\n",
       "    <tr>\n",
       "      <th>1037552</th>\n",
       "      <td>56808</td>\n",
       "      <td>199198</td>\n",
       "      <td>0.023256</td>\n",
       "    </tr>\n",
       "  </tbody>\n",
       "</table>\n",
       "<p>14754 rows × 3 columns</p>\n",
       "</div>"
      ],
      "text/plain": [
       "         user_id  article_id    rating\n",
       "2936274   317101      199393  0.500000\n",
       "1620248    99395       59758  0.500000\n",
       "612201     31691      293050  0.016393\n",
       "1525674    90863       32750  0.076923\n",
       "1100500    60312      236524  0.050000\n",
       "...          ...         ...       ...\n",
       "2335685   182016      234282  0.166667\n",
       "2037054   142268      214206  0.047619\n",
       "1629687   100387      250118  0.052632\n",
       "2916666   309688      285675  0.333333\n",
       "1037552    56808      199198  0.023256\n",
       "\n",
       "[14754 rows x 3 columns]"
      ]
     },
     "execution_count": 39,
     "metadata": {},
     "output_type": "execute_result"
    }
   ],
   "source": [
    "SAMPLE_RATIO = 0.005\n",
    "ratings_sample = ratings.sample(frac=SAMPLE_RATIO, random_state=8989)\n",
    "ratings_sample"
   ]
  },
  {
   "cell_type": "markdown",
   "metadata": {},
   "source": [
    "## Train/Test split"
   ]
  },
  {
   "cell_type": "code",
   "execution_count": 40,
   "metadata": {},
   "outputs": [],
   "source": [
    "from sklearn.model_selection import train_test_split\n",
    "train_df, test_df = train_test_split(ratings_sample, train_size=0.8, random_state=31)"
   ]
  },
  {
   "cell_type": "markdown",
   "metadata": {},
   "source": [
    "## Entrainement des modèles "
   ]
  },
  {
   "cell_type": "code",
   "execution_count": 41,
   "metadata": {},
   "outputs": [],
   "source": [
    "from scipy.sparse import csr_matrix\n",
    "from sklearn.model_selection import train_test_split\n",
    "\n",
    "from tqdm import tqdm\n",
    "\n",
    "from implicit.als import AlternatingLeastSquares\n",
    "from implicit.bpr import BayesianPersonalizedRanking\n",
    "from implicit.lmf import LogisticMatrixFactorization\n",
    "from implicit.evaluation import precision_at_k, mean_average_precision_at_k, ndcg_at_k, AUC_at_k"
   ]
  },
  {
   "cell_type": "markdown",
   "metadata": {},
   "source": [
    "On va evaluer les 3 modeles ci dessous"
   ]
  },
  {
   "cell_type": "markdown",
   "metadata": {},
   "source": [
    "**Logistic Matrix Factorization** est un modèle de recommandation de filtrage collaboratif qui apprend la distribution probabiliste, que l'utilisateur le veuille ou non. L'algorithme du modèle est décrit dans Logistic Matrix Factorization for Implicit Feedback Data <https://web.stanford.edu/~rezab/nips2014workshop/submits/logmat.pdf>"
   ]
  },
  {
   "cell_type": "markdown",
   "metadata": {},
   "source": [
    "**Alternating Least Squares** est un modèle de recommandation basé sur les algorithmes décrits dans l'article « Collaborative Filtering for Implicit Feedback Datasets » avec des optimisations de performances décrites dans « Applications of the Conjugate Gradient Method for Implicit Feedback Collaborative Filtering ».\n",
    "\n",
    "Cette fonction d'usine bascule entre les implémentations cpu et gpu trouvées dansimplicite.cpu.als.AlternatingLeastSquares etimplicite.gpu.als.AlternatingLeastSquares en fonction de l'indicateur use_gpu."
   ]
  },
  {
   "cell_type": "markdown",
   "metadata": {},
   "source": [
    "Le **classement personnalisé bayésien** est un modèle de recommandation qui apprend une intégration de factorisation matricielle basée sur la minimisation de la perte de classement par paires décrite dans l'article BPR : classement personnalisé bayésien à partir de la rétroaction implicite.\n",
    "\n",
    "Cette fonction de fabrique renvoie soit l'implémentation cpu à partir d'implicite.cpu.bpr, soit l'implémentation gpu à partir d'implicite.gpu.bpr en fonction de la valeur de l'indicateur use_gpu."
   ]
  },
  {
   "cell_type": "code",
   "execution_count": 42,
   "metadata": {},
   "outputs": [],
   "source": [
    "def train_models(train_df, test_df, models_list, n_recommandations):\n",
    "    \n",
    "    \n",
    "    df_results = pd.DataFrame(columns=['model', 'Precision@k','MAP@k','nDCG@k',\"train_time\"])\n",
    "    \n",
    "    dim = (max(train_df.user_id.max(),test_df.user_id.max())+1, max(train_df.article_id.max(),test_df.article_id.max())+1)\n",
    "    \n",
    "    train_csr = csr_matrix((train_df['rating'], (train_df['user_id'], train_df['article_id'])), dim)\n",
    "    test_csr = csr_matrix((test_df['rating'], (test_df['user_id'], test_df['article_id'])), dim)\n",
    "    \n",
    "    for model in models_list:\n",
    "        \n",
    "        print(\"##\"*30)\n",
    "        print(\"[INFO] : Start training the model : \", model.__class__.__name__)\n",
    "        \n",
    "        # Launch the timer\n",
    "        train_start_time = time()\n",
    "        \n",
    "        # Train the choosen model\n",
    "        model.fit(train_csr)\n",
    "        \n",
    "        # Stop the timer and calculate the training time\n",
    "        train_time = time() - train_start_time\n",
    "              \n",
    "        # Calculate evaluation metrics        \n",
    "        precision_k = round(precision_at_k(model, train_csr, test_csr), 5)\n",
    "        map_at_k = round(mean_average_precision_at_k(model, train_csr, test_csr), 5)\n",
    "        ndcg_k = round(ndcg_at_k(model, train_csr, test_csr), 5)\n",
    "        print(\"[INFO] : Precision@k = \", precision_k)\n",
    "        print(\"[INFO] : MAP@k = \", map_at_k)\n",
    "        print(\"[INFO] : nDCG@k = \", ndcg_k)\n",
    "        print(\"##\"*30)\n",
    "        \n",
    "        # Log results in the results dataframe\n",
    "        \n",
    "        df_results = df_results.append({\n",
    "            'model': model.__class__.__name__,\n",
    "            'Precision@k': precision_k,\n",
    "            'MAP@k': map_at_k,\n",
    "            'nDCG@k': ndcg_k,\n",
    "            'train_time': round(train_time,5),\n",
    "        }, ignore_index=True)\n",
    "        \n",
    "    return df_results"
   ]
  },
  {
   "cell_type": "code",
   "execution_count": 43,
   "metadata": {},
   "outputs": [
    {
     "name": "stderr",
     "output_type": "stream",
     "text": [
      "WARNING:root:Intel MKL BLAS detected. Its highly recommend to set the environment variable 'export MKL_NUM_THREADS=1' to disable its internal multithreading\n"
     ]
    },
    {
     "name": "stdout",
     "output_type": "stream",
     "text": [
      "############################################################\n",
      "[INFO] : Start training the model :  AlternatingLeastSquares\n"
     ]
    },
    {
     "data": {
      "application/vnd.jupyter.widget-view+json": {
       "model_id": "f8e2e7f196214570aff8e5b49e89ebe7",
       "version_major": 2,
       "version_minor": 0
      },
      "text/plain": [
       "  0%|          | 0/15 [00:00<?, ?it/s]"
      ]
     },
     "metadata": {},
     "output_type": "display_data"
    },
    {
     "data": {
      "application/vnd.jupyter.widget-view+json": {
       "model_id": "710c0c109d2c4751a5697db657b526e0",
       "version_major": 2,
       "version_minor": 0
      },
      "text/plain": [
       "  0%|          | 0/322846 [00:00<?, ?it/s]"
      ]
     },
     "metadata": {},
     "output_type": "display_data"
    },
    {
     "data": {
      "application/vnd.jupyter.widget-view+json": {
       "model_id": "73ff24fa4a124299bd1743cb4d023dec",
       "version_major": 2,
       "version_minor": 0
      },
      "text/plain": [
       "  0%|          | 0/322846 [00:00<?, ?it/s]"
      ]
     },
     "metadata": {},
     "output_type": "display_data"
    },
    {
     "data": {
      "application/vnd.jupyter.widget-view+json": {
       "model_id": "891bd3144c9f4568ab0ad390fabc1926",
       "version_major": 2,
       "version_minor": 0
      },
      "text/plain": [
       "  0%|          | 0/322846 [00:00<?, ?it/s]"
      ]
     },
     "metadata": {},
     "output_type": "display_data"
    },
    {
     "name": "stdout",
     "output_type": "stream",
     "text": [
      "[INFO] : Precision@k =  0.0\n",
      "[INFO] : MAP@k =  0.0\n",
      "[INFO] : nDCG@k =  0.0\n",
      "############################################################\n",
      "############################################################\n",
      "[INFO] : Start training the model :  BayesianPersonalizedRanking\n"
     ]
    },
    {
     "data": {
      "application/vnd.jupyter.widget-view+json": {
       "model_id": "421fa660a2b74c3287298c36f8b08a50",
       "version_major": 2,
       "version_minor": 0
      },
      "text/plain": [
       "  0%|          | 0/100 [00:00<?, ?it/s]"
      ]
     },
     "metadata": {},
     "output_type": "display_data"
    },
    {
     "data": {
      "application/vnd.jupyter.widget-view+json": {
       "model_id": "31fa6e02b73242d0ad1fdd59757f4c03",
       "version_major": 2,
       "version_minor": 0
      },
      "text/plain": [
       "  0%|          | 0/322846 [00:00<?, ?it/s]"
      ]
     },
     "metadata": {},
     "output_type": "display_data"
    },
    {
     "data": {
      "application/vnd.jupyter.widget-view+json": {
       "model_id": "600b9065bbb342988b3ef7ced0e2e1f3",
       "version_major": 2,
       "version_minor": 0
      },
      "text/plain": [
       "  0%|          | 0/322846 [00:00<?, ?it/s]"
      ]
     },
     "metadata": {},
     "output_type": "display_data"
    },
    {
     "data": {
      "application/vnd.jupyter.widget-view+json": {
       "model_id": "8001adb50e65402a821bc368d2903956",
       "version_major": 2,
       "version_minor": 0
      },
      "text/plain": [
       "  0%|          | 0/322846 [00:00<?, ?it/s]"
      ]
     },
     "metadata": {},
     "output_type": "display_data"
    },
    {
     "name": "stdout",
     "output_type": "stream",
     "text": [
      "[INFO] : Precision@k =  0.0\n",
      "[INFO] : MAP@k =  0.0\n",
      "[INFO] : nDCG@k =  0.0\n",
      "############################################################\n",
      "############################################################\n",
      "[INFO] : Start training the model :  LogisticMatrixFactorization\n"
     ]
    },
    {
     "name": "stderr",
     "output_type": "stream",
     "text": [
      "100%|██████████| 30/30 [00:00<00:00, 38.67it/s]\n"
     ]
    },
    {
     "data": {
      "application/vnd.jupyter.widget-view+json": {
       "model_id": "e44450e0d6c14ff0a844951f260a2e07",
       "version_major": 2,
       "version_minor": 0
      },
      "text/plain": [
       "  0%|          | 0/322846 [00:00<?, ?it/s]"
      ]
     },
     "metadata": {},
     "output_type": "display_data"
    },
    {
     "data": {
      "application/vnd.jupyter.widget-view+json": {
       "model_id": "8dc5f7fa80664fff89d62f18cb24b962",
       "version_major": 2,
       "version_minor": 0
      },
      "text/plain": [
       "  0%|          | 0/322846 [00:00<?, ?it/s]"
      ]
     },
     "metadata": {},
     "output_type": "display_data"
    },
    {
     "data": {
      "application/vnd.jupyter.widget-view+json": {
       "model_id": "6c1c7a47ad0f499298ed77151a43cf25",
       "version_major": 2,
       "version_minor": 0
      },
      "text/plain": [
       "  0%|          | 0/322846 [00:00<?, ?it/s]"
      ]
     },
     "metadata": {},
     "output_type": "display_data"
    },
    {
     "name": "stdout",
     "output_type": "stream",
     "text": [
      "[INFO] : Precision@k =  0.0\n",
      "[INFO] : MAP@k =  0.0\n",
      "[INFO] : nDCG@k =  0.0\n",
      "############################################################\n"
     ]
    },
    {
     "data": {
      "text/html": [
       "<div>\n",
       "<style scoped>\n",
       "    .dataframe tbody tr th:only-of-type {\n",
       "        vertical-align: middle;\n",
       "    }\n",
       "\n",
       "    .dataframe tbody tr th {\n",
       "        vertical-align: top;\n",
       "    }\n",
       "\n",
       "    .dataframe thead th {\n",
       "        text-align: right;\n",
       "    }\n",
       "</style>\n",
       "<table border=\"1\" class=\"dataframe\">\n",
       "  <thead>\n",
       "    <tr style=\"text-align: right;\">\n",
       "      <th></th>\n",
       "      <th>model</th>\n",
       "      <th>Precision@k</th>\n",
       "      <th>MAP@k</th>\n",
       "      <th>nDCG@k</th>\n",
       "      <th>train_time</th>\n",
       "    </tr>\n",
       "  </thead>\n",
       "  <tbody>\n",
       "    <tr>\n",
       "      <th>0</th>\n",
       "      <td>AlternatingLeastSquares</td>\n",
       "      <td>0.0</td>\n",
       "      <td>0.0</td>\n",
       "      <td>0.0</td>\n",
       "      <td>1.87910</td>\n",
       "    </tr>\n",
       "    <tr>\n",
       "      <th>1</th>\n",
       "      <td>BayesianPersonalizedRanking</td>\n",
       "      <td>0.0</td>\n",
       "      <td>0.0</td>\n",
       "      <td>0.0</td>\n",
       "      <td>1.16232</td>\n",
       "    </tr>\n",
       "    <tr>\n",
       "      <th>2</th>\n",
       "      <td>LogisticMatrixFactorization</td>\n",
       "      <td>0.0</td>\n",
       "      <td>0.0</td>\n",
       "      <td>0.0</td>\n",
       "      <td>1.59200</td>\n",
       "    </tr>\n",
       "  </tbody>\n",
       "</table>\n",
       "</div>"
      ],
      "text/plain": [
       "                         model  Precision@k  MAP@k  nDCG@k  train_time\n",
       "0      AlternatingLeastSquares          0.0    0.0     0.0     1.87910\n",
       "1  BayesianPersonalizedRanking          0.0    0.0     0.0     1.16232\n",
       "2  LogisticMatrixFactorization          0.0    0.0     0.0     1.59200"
      ]
     },
     "execution_count": 43,
     "metadata": {},
     "output_type": "execute_result"
    }
   ],
   "source": [
    "models_list = [AlternatingLeastSquares(), BayesianPersonalizedRanking(), LogisticMatrixFactorization()]\n",
    "\n",
    "train_models(train_df          = train_df,\n",
    "             test_df           = test_df, \n",
    "             models_list       = models_list, \n",
    "             n_recommandations = 5)"
   ]
  },
  {
   "cell_type": "markdown",
   "metadata": {},
   "source": [
    "Le modèle le plus performant étant le LMF (Logistic Matric Factorization) avec 5,3% des articles recommandés par le système sont des articles pertinents pour l'utilisateur, donc susceptibles de lui plaire."
   ]
  },
  {
   "cell_type": "markdown",
   "metadata": {},
   "source": [
    "## Fonction de recommendation"
   ]
  },
  {
   "cell_type": "code",
   "execution_count": 44,
   "metadata": {},
   "outputs": [],
   "source": [
    "import pickle\n",
    "\n",
    "def compute_interaction_matrix(clicks):\n",
    "    interactions = clicks.groupby(['user_id','article_id']).size().reset_index(name='count')\n",
    "\n",
    "\n",
    "    csr_item_user = csr_matrix((interactions['count'].astype(float),\n",
    "                                (interactions['article_id'],\n",
    "                                 interactions['user_id'])))\n",
    "\n",
    "    csr_user_item = csr_matrix((interactions['count'].astype(float),\n",
    "                                (interactions['user_id'],\n",
    "                                 interactions['article_id'])))\n",
    "    \n",
    "    return csr_item_user, csr_user_item\n",
    "\n",
    "def get_cf_reco(clicks, userID, csr_item_user, csr_user_item, model_path=None, n_reco=5, train=True):\n",
    "\n",
    "    start = time()\n",
    "    \n",
    "    if train or model_path is None:\n",
    "        model = LogisticMatrixFactorization(factors= 128, random_state=42)\n",
    "        print(\"[INFO] : Start training model\")\n",
    "        model.fit(csr_user_item)\n",
    "\n",
    "        # Save model to disk\n",
    "        with open('recommender.model', 'wb') as filehandle:\n",
    "            pickle.dump(model, filehandle)\n",
    "    else:\n",
    "        with open('recommender.model', 'rb') as filehandle:\n",
    "            model = pickle.load(filehandle)\n",
    "\n",
    "\n",
    "    recommendations_list = []\n",
    "    recommendations = model.recommend(userID, csr_user_item[userID], N=n_reco, filter_already_liked_items=True)\n",
    "\n",
    "    print(f'[INFO] : Completed in {round(time() - start, 2)}s')\n",
    "    \n",
    "    recommendations = [elt[0] for elt in recommendations]\n",
    "    \n",
    "    return recommendations"
   ]
  },
  {
   "cell_type": "code",
   "execution_count": 46,
   "metadata": {},
   "outputs": [
    {
     "name": "stdout",
     "output_type": "stream",
     "text": [
      "[INFO] : Start training model\n"
     ]
    },
    {
     "name": "stderr",
     "output_type": "stream",
     "text": [
      "100%|██████████| 30/30 [02:22<00:00,  4.74s/it]\n"
     ]
    },
    {
     "name": "stdout",
     "output_type": "stream",
     "text": [
      "[INFO] : Completed in 147.16s\n"
     ]
    },
    {
     "data": {
      "text/plain": [
       "[80350, 5890, 73574, 2151, 851]"
      ]
     },
     "execution_count": 46,
     "metadata": {},
     "output_type": "execute_result"
    }
   ],
   "source": [
    "userID = 15684\n",
    "userID = 0\n",
    "csr_item_user, csr_user_item = compute_interaction_matrix(clicks)\n",
    "get_cf_reco(clicks, userID, csr_item_user, csr_user_item,model_path=None, n_reco=5, train=True)"
   ]
  },
  {
   "cell_type": "code",
   "execution_count": 47,
   "metadata": {},
   "outputs": [
    {
     "name": "stdout",
     "output_type": "stream",
     "text": [
      "[INFO] : Completed in 0.32s\n"
     ]
    },
    {
     "data": {
      "text/plain": [
       "[80350, 5890, 73574, 2151, 851]"
      ]
     },
     "execution_count": 47,
     "metadata": {},
     "output_type": "execute_result"
    }
   ],
   "source": [
    "get_cf_reco(clicks, userID, csr_item_user, csr_user_item, model_path=\"./recommender.model\", n_reco=5, train=False)"
   ]
  }
 ],
 "metadata": {
  "kernelspec": {
   "display_name": "Python 3",
   "language": "python",
   "name": "python3"
  },
  "language_info": {
   "codemirror_mode": {
    "name": "ipython",
    "version": 3
   },
   "file_extension": ".py",
   "mimetype": "text/x-python",
   "name": "python",
   "nbconvert_exporter": "python",
   "pygments_lexer": "ipython3",
   "version": "3.6.2"
  }
 },
 "nbformat": 4,
 "nbformat_minor": 4
}
